{
 "cells": [
  {
   "cell_type": "code",
   "execution_count": 1,
   "metadata": {
    "collapsed": false
   },
   "outputs": [],
   "source": [
    "import pymongo\n",
    "import os\n",
    "import pandas as pd\n",
    "\n",
    "import time"
   ]
  },
  {
   "cell_type": "markdown",
   "metadata": {},
   "source": [
    "## Addresses IP des 3 instances:"
   ]
  },
  {
   "cell_type": "code",
   "execution_count": 2,
   "metadata": {
    "collapsed": true
   },
   "outputs": [],
   "source": [
    "DB_IP = [\"172.31.31.100\", \"172.31.31.101\", \"172.31.31.102\"]"
   ]
  },
  {
   "cell_type": "markdown",
   "metadata": {},
   "source": [
    "## Nom du replica set:"
   ]
  },
  {
   "cell_type": "code",
   "execution_count": 3,
   "metadata": {
    "collapsed": true
   },
   "outputs": [],
   "source": [
    "REPLICA_SET = \"replica-set\""
   ]
  },
  {
   "cell_type": "markdown",
   "metadata": {},
   "source": [
    "## Liste des états:"
   ]
  },
  {
   "cell_type": "markdown",
   "metadata": {},
   "source": [
    "2016-11-08-20-00_Minnesota.txt\n",
    "2016-11-08-20-01_Alabama.txt\n",
    "2016-11-08-20-01_Montana.txt\n",
    "2016-11-08-20-01_Utah.txt\n",
    "2016-11-08-20-02_Caroline_du_Sud.txt\n",
    "2016-11-08-20-02_New_York.txt\n",
    "2016-11-08-20-03_Nouveau_Mexique.txt\n",
    "2016-11-08-20-04_Californie.txt\n",
    "2016-11-08-20-04_Colorado.txt\n",
    "2016-11-08-20-05_Connecticut.txt\n",
    "2016-11-08-20-08_District_de_Columbia.txt\n",
    "2016-11-08-20-08_Kentucky.txt\n",
    "2016-11-08-20-09_Caroline_du_Nord.txt\n",
    "2016-11-08-20-09_Vermont.txt\n",
    "2016-11-08-20-10_Dakota_du_Sud.txt\n",
    "2016-11-08-20-11_Alaska.txt\n",
    "2016-11-08-20-13_Arkansas.txt\n",
    "2016-11-08-20-13_Washington.txt\n",
    "2016-11-08-20-15_Hawai.txt\n",
    "2016-11-08-20-17_Wisconsin.txt\n",
    "2016-11-08-20-19_Georgie.txt\n",
    "2016-11-08-20-22_Ohio.txt\n",
    "2016-11-08-20-24_Missouri.txt\n",
    "2016-11-08-20-24_New_Hampshire.txt\n",
    "2016-11-08-20-24_Virginie.txt\n",
    "2016-11-08-20-27_Iowa.txt\n",
    "2016-11-08-20-28_Delaware.txt\n",
    "2016-11-08-20-29_Arizona.txt\n",
    "2016-11-08-20-31_Louisiane.txt\n",
    "2016-11-08-20-31_Massachusetts.txt\n",
    "2016-11-08-20-31_Texas.txt\n",
    "2016-11-08-20-34_Dakota_du_Nord.txt\n",
    "2016-11-08-20-35_Tennessee.txt\n",
    "2016-11-08-20-36_Wyoming.txt\n",
    "2016-11-08-20-37_Floride.txt\n",
    "2016-11-08-20-37_Illinois.txt\n",
    "2016-11-08-20-40_Nevada.txt\n",
    "2016-11-08-20-41_Idaho.txt\n",
    "2016-11-08-20-41_Pennsylvanie.txt\n",
    "2016-11-08-20-43_Virginie_Occidentale.txt\n",
    "2016-11-08-20-48_Maryland.txt\n",
    "2016-11-08-20-48_Mississippi.txt\n",
    "2016-11-08-20-48_Rhode_Island.txt\n",
    "2016-11-08-20-50_Michigan.txt\n",
    "2016-11-08-20-51_Oklahoma.txt\n",
    "2016-11-08-20-52_Nebraska.txt\n",
    "2016-11-08-20-56_New_Jersey.txt\n",
    "2016-11-08-20-57_Indiana.txt\n",
    "2016-11-08-20-57_Kansas.txt\n",
    "2016-11-08-20-58_Maine.txt\n",
    "2016-11-08-20-59_Oregon.txt\""
   ]
  },
  {
   "cell_type": "code",
   "execution_count": 4,
   "metadata": {
    "collapsed": true
   },
   "outputs": [],
   "source": [
    "MONGO_CLI = \"mongodb://{}:27017,{}:27017,{}:27017/?replicaSet={}\".format(DB_IP[0], DB_IP[1], DB_IP[2], REPLICA_SET)"
   ]
  },
  {
   "cell_type": "code",
   "execution_count": 5,
   "metadata": {
    "collapsed": false
   },
   "outputs": [
    {
     "name": "stdout",
     "output_type": "stream",
     "text": [
      "replica-set/172.31.31.100:27017,172.31.31.101:27017,172.31.31.102:27017\n"
     ]
    }
   ],
   "source": [
    "REPLICA = \"{}/{}:27017,{}:27017,{}:27017\".format(REPLICA_SET, DB_IP[0], DB_IP[1], DB_IP[2])\n",
    "print(REPLICA)"
   ]
  },
  {
   "cell_type": "code",
   "execution_count": 6,
   "metadata": {
    "collapsed": false
   },
   "outputs": [
    {
     "data": {
      "text/plain": [
       "'mongodb://172.31.31.100:27017,172.31.31.101:27017,172.31.31.102:27017/?replicaSet=replica-set'"
      ]
     },
     "execution_count": 6,
     "metadata": {},
     "output_type": "execute_result"
    }
   ],
   "source": [
    "MONGO_CLI"
   ]
  },
  {
   "cell_type": "code",
   "execution_count": 7,
   "metadata": {
    "collapsed": false
   },
   "outputs": [],
   "source": [
    "c = pymongo.MongoClient(MONGO_CLI)"
   ]
  },
  {
   "cell_type": "code",
   "execution_count": 8,
   "metadata": {
    "collapsed": false
   },
   "outputs": [
    {
     "data": {
      "text/plain": [
       "['local', 'dontexist', 'POTUS']"
      ]
     },
     "execution_count": 8,
     "metadata": {},
     "output_type": "execute_result"
    }
   ],
   "source": [
    "c.database_names()"
   ]
  },
  {
   "cell_type": "markdown",
   "metadata": {},
   "source": [
    "##### Fonction appel script sur le front"
   ]
  },
  {
   "cell_type": "code",
   "execution_count": 12,
   "metadata": {
    "collapsed": false
   },
   "outputs": [
    {
     "name": "stdout",
     "output_type": "stream",
     "text": [
      "{'state': 'Minnesota', '_id': ObjectId('588086ed73ebee0b131925ec'), 'Trump': 1322951, 'Other': 254146, 'Clinton': 1367716}\n",
      "{'state': 'Alabama', '_id': ObjectId('5880874e73ebee0b131925ee'), 'Trump': 1318255, 'Other': 89680, 'Clinton': 729547}\n",
      "{'state': 'Montana', '_id': ObjectId('5880876b73ebee0b131925f0'), 'Trump': 279240, 'Other': 59952, 'Clinton': 177709}\n",
      "{'state': 'Utah', '_id': ObjectId('588087a273ebee0b131925f2'), 'Trump': 515231, 'Other': 305523, 'Clinton': 310676}\n",
      "{'state': 'Caroline_du_Sud', '_id': ObjectId('5880880a73ebee0b131925f4'), 'Trump': 1155389, 'Other': 92265, 'Clinton': 855373}\n",
      "{'state': 'New_York', '_id': ObjectId('5880897a73ebee0b131925f6'), 'Trump': 2814346, 'Other': 425300, 'Clinton': 4547418}\n",
      "{'state': 'Nouveau_Mexique', '_id': ObjectId('588089bb73ebee0b131925f8'), 'Trump': 319666, 'Other': 99143, 'Clinton': 385234}\n",
      "             STATE    Trump  Clinton   Other\n",
      "0        Minnesota  1322951  1367716  254146\n",
      "1          Alabama  1318255   729547   89680\n",
      "2          Montana   279240   177709   59952\n",
      "3             Utah   515231   310676  305523\n",
      "4  Caroline_du_Sud  1155389   855373   92265\n",
      "5         New_York  2814346  4547418  425300\n",
      "6  Nouveau_Mexique   319666   385234   99143\n"
     ]
    }
   ],
   "source": [
    "\n",
    "myCurso1 = c.POTUS.synthese.find()  \n",
    "dic_election_list =[]\n",
    "for i in myCurso1:\n",
    "    print(i)\n",
    "    li = [i['state'],i['Trump'],i['Clinton'], i['Other']]\n",
    "    dic_election_list.append(li)\n",
    "\n",
    "df =pd.DataFrame(dic_election_list, columns=[\"STATE\", \"Trump\", \"Clinton\",\"Other\"])\n",
    "\n",
    "print(df)"
   ]
  },
  {
   "cell_type": "code",
   "execution_count": null,
   "metadata": {
    "collapsed": true
   },
   "outputs": [],
   "source": []
  }
 ],
 "metadata": {
  "kernelspec": {
   "display_name": "Python 3",
   "language": "python",
   "name": "python3"
  },
  "language_info": {
   "codemirror_mode": {
    "name": "ipython",
    "version": 3
   },
   "file_extension": ".py",
   "mimetype": "text/x-python",
   "name": "python",
   "nbconvert_exporter": "python",
   "pygments_lexer": "ipython3",
   "version": "3.5.1"
  }
 },
 "nbformat": 4,
 "nbformat_minor": 0
}
