{
 "cells": [
  {
   "cell_type": "code",
   "execution_count": 1,
   "metadata": {
    "collapsed": false
   },
   "outputs": [],
   "source": [
    "import pymongo\n",
    "import os\n",
    "import pandas as pd\n",
    "\n",
    "import time"
   ]
  },
  {
   "cell_type": "markdown",
   "metadata": {},
   "source": [
    "## Addresses IP des 3 instances:"
   ]
  },
  {
   "cell_type": "code",
   "execution_count": 2,
   "metadata": {
    "collapsed": true
   },
   "outputs": [],
   "source": [
    "DB_IP = [\"172.31.31.100\", \"172.31.31.101\", \"172.31.31.102\"]"
   ]
  },
  {
   "cell_type": "markdown",
   "metadata": {},
   "source": [
    "## Nom du replica set:"
   ]
  },
  {
   "cell_type": "code",
   "execution_count": 3,
   "metadata": {
    "collapsed": true
   },
   "outputs": [],
   "source": [
    "REPLICA_SET = \"replica-set\""
   ]
  },
  {
   "cell_type": "markdown",
   "metadata": {},
   "source": [
    "## Liste des états:"
   ]
  },
  {
   "cell_type": "markdown",
   "metadata": {},
   "source": [
    "2016-11-08-20-00_Minnesota.txt\n",
    "2016-11-08-20-01_Alabama.txt\n",
    "2016-11-08-20-01_Montana.txt\n",
    "2016-11-08-20-01_Utah.txt\n",
    "2016-11-08-20-02_Caroline_du_Sud.txt\n",
    "2016-11-08-20-02_New_York.txt\n",
    "2016-11-08-20-03_Nouveau_Mexique.txt\n",
    "2016-11-08-20-04_Californie.txt\n",
    "2016-11-08-20-04_Colorado.txt\n",
    "2016-11-08-20-05_Connecticut.txt\n",
    "2016-11-08-20-08_District_de_Columbia.txt\n",
    "2016-11-08-20-08_Kentucky.txt\n",
    "2016-11-08-20-09_Caroline_du_Nord.txt\n",
    "2016-11-08-20-09_Vermont.txt\n",
    "2016-11-08-20-10_Dakota_du_Sud.txt\n",
    "2016-11-08-20-11_Alaska.txt\n",
    "2016-11-08-20-13_Arkansas.txt\n",
    "2016-11-08-20-13_Washington.txt\n",
    "2016-11-08-20-15_Hawai.txt\n",
    "2016-11-08-20-17_Wisconsin.txt\n",
    "2016-11-08-20-19_Georgie.txt\n",
    "2016-11-08-20-22_Ohio.txt\n",
    "2016-11-08-20-24_Missouri.txt\n",
    "2016-11-08-20-24_New_Hampshire.txt\n",
    "2016-11-08-20-24_Virginie.txt\n",
    "2016-11-08-20-27_Iowa.txt\n",
    "2016-11-08-20-28_Delaware.txt\n",
    "2016-11-08-20-29_Arizona.txt\n",
    "2016-11-08-20-31_Louisiane.txt\n",
    "2016-11-08-20-31_Massachusetts.txt\n",
    "2016-11-08-20-31_Texas.txt\n",
    "2016-11-08-20-34_Dakota_du_Nord.txt\n",
    "2016-11-08-20-35_Tennessee.txt\n",
    "2016-11-08-20-36_Wyoming.txt\n",
    "2016-11-08-20-37_Floride.txt\n",
    "2016-11-08-20-37_Illinois.txt\n",
    "2016-11-08-20-40_Nevada.txt\n",
    "2016-11-08-20-41_Idaho.txt\n",
    "2016-11-08-20-41_Pennsylvanie.txt\n",
    "2016-11-08-20-43_Virginie_Occidentale.txt\n",
    "2016-11-08-20-48_Maryland.txt\n",
    "2016-11-08-20-48_Mississippi.txt\n",
    "2016-11-08-20-48_Rhode_Island.txt\n",
    "2016-11-08-20-50_Michigan.txt\n",
    "2016-11-08-20-51_Oklahoma.txt\n",
    "2016-11-08-20-52_Nebraska.txt\n",
    "2016-11-08-20-56_New_Jersey.txt\n",
    "2016-11-08-20-57_Indiana.txt\n",
    "2016-11-08-20-57_Kansas.txt\n",
    "2016-11-08-20-58_Maine.txt\n",
    "2016-11-08-20-59_Oregon.txt\""
   ]
  },
  {
   "cell_type": "code",
   "execution_count": 4,
   "metadata": {
    "collapsed": true
   },
   "outputs": [],
   "source": [
    "MONGO_CLI = \"mongodb://{}:27017,{}:27017,{}:27017/?replicaSet={}\".format(DB_IP[0], DB_IP[1], DB_IP[2], REPLICA_SET)"
   ]
  },
  {
   "cell_type": "code",
   "execution_count": 5,
   "metadata": {
    "collapsed": false
   },
   "outputs": [
    {
     "name": "stdout",
     "output_type": "stream",
     "text": [
      "replica-set/172.31.31.100:27017,172.31.31.101:27017,172.31.31.102:27017\n"
     ]
    }
   ],
   "source": [
    "REPLICA = \"{}/{}:27017,{}:27017,{}:27017\".format(REPLICA_SET, DB_IP[0], DB_IP[1], DB_IP[2])\n",
    "print(REPLICA)"
   ]
  },
  {
   "cell_type": "code",
   "execution_count": 6,
   "metadata": {
    "collapsed": false
   },
   "outputs": [
    {
     "data": {
      "text/plain": [
       "'mongodb://172.31.31.100:27017,172.31.31.101:27017,172.31.31.102:27017/?replicaSet=replica-set'"
      ]
     },
     "execution_count": 6,
     "metadata": {},
     "output_type": "execute_result"
    }
   ],
   "source": [
    "MONGO_CLI"
   ]
  },
  {
   "cell_type": "code",
   "execution_count": 7,
   "metadata": {
    "collapsed": false
   },
   "outputs": [],
   "source": [
    "c = pymongo.MongoClient(MONGO_CLI)"
   ]
  },
  {
   "cell_type": "code",
   "execution_count": 8,
   "metadata": {
    "collapsed": false
   },
   "outputs": [
    {
     "data": {
      "text/plain": [
       "['local', 'dontexist', 'POTUS']"
      ]
     },
     "execution_count": 8,
     "metadata": {},
     "output_type": "execute_result"
    }
   ],
   "source": [
    "c.database_names()"
   ]
  },
  {
   "cell_type": "code",
   "execution_count": 9,
   "metadata": {
    "collapsed": true
   },
   "outputs": [],
   "source": [
    "import subprocess\n",
    "from subprocess import call\n",
    "def chargement(filename,DIR):\n",
    "        #DIR = \"~/POTUS/data_POTUS/\"\n",
    "        script = DIR + \"import.bash\"\n",
    "        col = \"col2 \"\n",
    "        # print script\n",
    "        call([script, filename ,col])\n",
    "        # insertion dans la collection l' etat traité\n",
    "        c.POTUS.traitement.insert_one({'traitement': filename})\n",
    "        print(\"Traitement : \", filename)\n",
    "        \n",
    "        "
   ]
  },
  {
   "cell_type": "code",
   "execution_count": 15,
   "metadata": {
    "collapsed": true
   },
   "outputs": [],
   "source": [
    "list_File_col1 =['2016-11-08-20-00_Minnesota.txt'\n",
    ",'2016-11-08-20-01_Alabama.txt'\n",
    ",'2016-11-08-20-01_Montana.txt'\n",
    ",'2016-11-08-20-01_Utah.txt'\n",
    ",'2016-11-08-20-02_Caroline_du_Sud.txt'\n",
    ",'2016-11-08-20-02_New_York.txt'\n",
    ",'2016-11-08-20-03_Nouveau_Mexique.txt']"
   ]
  },
  {
   "cell_type": "code",
   "execution_count": 16,
   "metadata": {
    "collapsed": false
   },
   "outputs": [
    {
     "name": "stdout",
     "output_type": "stream",
     "text": [
      "Traitement :  2016-11-08-20-00_Minnesota.txt\n",
      "Traitement :  2016-11-08-20-01_Alabama.txt\n",
      "Traitement :  2016-11-08-20-01_Montana.txt\n",
      "Traitement :  2016-11-08-20-01_Utah.txt\n",
      "Traitement :  2016-11-08-20-02_Caroline_du_Sud.txt\n",
      "Traitement :  2016-11-08-20-02_New_York.txt\n",
      "Traitement :  2016-11-08-20-03_Nouveau_Mexique.txt\n",
      "CPU times: user 0 ns, sys: 12 ms, total: 12 ms\n",
      "Wall time: 63 ms\n"
     ]
    }
   ],
   "source": [
    "%%time\n",
    "DIR = \"/home/ec2-user/POTUS/data_POTUS/\"\n",
    "for file in list_File_col1:\n",
    "    chargement(file,DIR)"
   ]
  },
  {
   "cell_type": "code",
   "execution_count": 10,
   "metadata": {
    "collapsed": false
   },
   "outputs": [
    {
     "name": "stdout",
     "output_type": "stream",
     "text": [
      "Traitement :  /home/ec2-user/POTUS/data_POTUS/2016-11-08-20-00_Minnesota.txt\n"
     ]
    }
   ],
   "source": [
    "#%%time\n",
    "#DIR = \"/home/ec2-user/POTUS/data_POTUS/\"\n",
    "#filename =DIR + \"2016-11-08-20-00_Minnesota.txt\"\n",
    "#chargement(filename,DIR)"
   ]
  },
  {
   "cell_type": "code",
   "execution_count": 14,
   "metadata": {
    "collapsed": false
   },
   "outputs": [
    {
     "name": "stdout",
     "output_type": "stream",
     "text": [
      "CPU times: user 0 ns, sys: 0 ns, total: 0 ns\n",
      "Wall time: 2.88 ms\n"
     ]
    }
   ],
   "source": [
    "%%time\n",
    "myCurso = c.POTUS.col2.aggregate([{'$group' : { '_id': '$STATE' ,'number': { '$sum' : 1} }}])\n",
    "\n",
    "for i in myCurso:\n",
    "    print(i)\n",
    "\n",
    "\n",
    "myCurso1 = c.POTUS.traitement.find()  \n",
    "for i in myCurso1:\n",
    "    print(i)"
   ]
  },
  {
   "cell_type": "code",
   "execution_count": 21,
   "metadata": {
    "collapsed": false
   },
   "outputs": [
    {
     "ename": "NameError",
     "evalue": "name 'myCurso1' is not defined",
     "output_type": "error",
     "traceback": [
      "\u001b[1;31m---------------------------------------------------------------------------\u001b[0m",
      "\u001b[1;31mNameError\u001b[0m                                 Traceback (most recent call last)",
      "\u001b[1;32m<ipython-input-21-88d25e16202b>\u001b[0m in \u001b[0;36m<module>\u001b[1;34m()\u001b[0m\n\u001b[1;32m----> 1\u001b[1;33m \u001b[1;32mfor\u001b[0m \u001b[0mi\u001b[0m \u001b[1;32min\u001b[0m \u001b[0mmyCurso1\u001b[0m\u001b[1;33m:\u001b[0m\u001b[1;33m\u001b[0m\u001b[0m\n\u001b[0m\u001b[0;32m      2\u001b[0m     \u001b[0mprint\u001b[0m\u001b[1;33m(\u001b[0m\u001b[0mi\u001b[0m\u001b[1;33m)\u001b[0m\u001b[1;33m\u001b[0m\u001b[0m\n",
      "\u001b[1;31mNameError\u001b[0m: name 'myCurso1' is not defined"
     ]
    }
   ],
   "source": [
    "\n"
   ]
  },
  {
   "cell_type": "code",
   "execution_count": 12,
   "metadata": {
    "collapsed": true
   },
   "outputs": [],
   "source": [
    "list_File = [\n",
    "'2016-11-08-20-00_Minnesota.txt'\n",
    ",'2016-11-08-20-01_Alabama.txt'\n",
    ",'2016-11-08-20-01_Montana.txt'\n",
    ",'2016-11-08-20-01_Utah.txt'\n",
    ",'2016-11-08-20-02_Caroline_du_Sud.txt'\n",
    ",'2016-11-08-20-02_New_York.txt'\n",
    ",'2016-11-08-20-03_Nouveau_Mexique.txt'\n",
    ",'2016-11-08-20-04_Californie.txt'\n",
    ",'2016-11-08-20-04_Colorado.txt'\n",
    ",'2016-11-08-20-05_Connecticut.txt'\n",
    ",'2016-11-08-20-08_District_de_Columbia.txt'\n",
    ",'2016-11-08-20-08_Kentucky.txt'\n",
    ",'2016-11-08-20-09_Caroline_du_Nord.txt'\n",
    ",'2016-11-08-20-09_Vermont.txt'\n",
    ",'2016-11-08-20-10_Dakota_du_Sud.txt'\n",
    ",'2016-11-08-20-11_Alaska.txt'\n",
    ",'2016-11-08-20-13_Arkansas.txt'\n",
    ",'2016-11-08-20-13_Washington.txt'\n",
    ",'2016-11-08-20-15_Hawai.txt'\n",
    ",'2016-11-08-20-17_Wisconsin.txt'\n",
    ",'2016-11-08-20-19_Georgie.txt'\n",
    ",'2016-11-08-20-22_Ohio.txt'\n",
    ",'2016-11-08-20-24_Missouri.txt'\n",
    ",'2016-11-08-20-24_New_Hampshire.txt'\n",
    ",'2016-11-08-20-24_Virginie.txt'\n",
    ",'2016-11-08-20-27_Iowa.txt'\n",
    ",'2016-11-08-20-28_Delaware.txt'\n",
    ",'2016-11-08-20-29_Arizona.txt'\n",
    ",'2016-11-08-20-31_Louisiane.txt'\n",
    ",'2016-11-08-20-31_Massachusetts.txt'\n",
    ",'2016-11-08-20-31_Texas.txt'\n",
    ",'2016-11-08-20-34_Dakota_du_Nord.txt'\n",
    ",'2016-11-08-20-35_Tennessee.txt'\n",
    ",'2016-11-08-20-36_Wyoming.txt'\n",
    ",'2016-11-08-20-37_Floride.txt'\n",
    ",'2016-11-08-20-37_Illinois.txt'\n",
    ",'2016-11-08-20-40_Nevada.txt'\n",
    ",'2016-11-08-20-41_Idaho.txt'\n",
    ",'2016-11-08-20-41_Pennsylvanie.txt'\n",
    ",'2016-11-08-20-43_Virginie_Occidentale.txt'\n",
    ",'2016-11-08-20-48_Maryland.txt'\n",
    ",'2016-11-08-20-48_Mississippi.txt'\n",
    ",'2016-11-08-20-48_Rhode_Island.txt'\n",
    ",'2016-11-08-20-50_Michigan.txt'\n",
    ",'2016-11-08-20-51_Oklahoma.txt'\n",
    ",'2016-11-08-20-52_Nebraska.txt'\n",
    ",'2016-11-08-20-56_New_Jersey.txt'\n",
    ",'2016-11-08-20-57_Indiana.txt'\n",
    ",'2016-11-08-20-57_Kansas.txt'\n",
    ",'2016-11-08-20-58_Maine.txt'\n",
    ",'2016-11-08-20-59_Oregon.txt']"
   ]
  },
  {
   "cell_type": "code",
   "execution_count": null,
   "metadata": {
    "collapsed": true
   },
   "outputs": [],
   "source": []
  },
  {
   "cell_type": "code",
   "execution_count": 14,
   "metadata": {
    "collapsed": false
   },
   "outputs": [
    {
     "name": "stdout",
     "output_type": "stream",
     "text": [
      "Traitement :  2016-11-08-20-00_Minnesota.txt\n",
      "Traitement :  2016-11-08-20-01_Alabama.txt\n",
      "Traitement :  2016-11-08-20-01_Montana.txt\n",
      "Traitement :  2016-11-08-20-01_Utah.txt\n",
      "Traitement :  2016-11-08-20-02_Caroline_du_Sud.txt\n",
      "Traitement :  2016-11-08-20-02_New_York.txt\n",
      "Traitement :  2016-11-08-20-03_Nouveau_Mexique.txt\n",
      "Traitement :  2016-11-08-20-04_Californie.txt\n",
      "Traitement :  2016-11-08-20-04_Colorado.txt\n",
      "Traitement :  2016-11-08-20-05_Connecticut.txt\n",
      "Traitement :  2016-11-08-20-08_District_de_Columbia.txt\n",
      "Traitement :  2016-11-08-20-08_Kentucky.txt\n",
      "Traitement :  2016-11-08-20-09_Caroline_du_Nord.txt\n",
      "Traitement :  2016-11-08-20-09_Vermont.txt\n",
      "Traitement :  2016-11-08-20-10_Dakota_du_Sud.txt\n",
      "Traitement :  2016-11-08-20-11_Alaska.txt\n",
      "Traitement :  2016-11-08-20-13_Arkansas.txt\n",
      "Traitement :  2016-11-08-20-13_Washington.txt\n",
      "Traitement :  2016-11-08-20-15_Hawai.txt\n",
      "Traitement :  2016-11-08-20-17_Wisconsin.txt\n",
      "Traitement :  2016-11-08-20-19_Georgie.txt\n",
      "Traitement :  2016-11-08-20-22_Ohio.txt\n",
      "Traitement :  2016-11-08-20-24_Missouri.txt\n",
      "Traitement :  2016-11-08-20-24_New_Hampshire.txt\n",
      "Traitement :  2016-11-08-20-24_Virginie.txt\n",
      "Traitement :  2016-11-08-20-27_Iowa.txt\n",
      "Traitement :  2016-11-08-20-28_Delaware.txt\n",
      "Traitement :  2016-11-08-20-29_Arizona.txt\n",
      "Traitement :  2016-11-08-20-31_Louisiane.txt\n",
      "Traitement :  2016-11-08-20-31_Massachusetts.txt\n",
      "Traitement :  2016-11-08-20-31_Texas.txt\n",
      "Traitement :  2016-11-08-20-34_Dakota_du_Nord.txt\n",
      "Traitement :  2016-11-08-20-35_Tennessee.txt\n",
      "Traitement :  2016-11-08-20-36_Wyoming.txt\n",
      "Traitement :  2016-11-08-20-37_Floride.txt\n",
      "Traitement :  2016-11-08-20-37_Illinois.txt\n",
      "Traitement :  2016-11-08-20-40_Nevada.txt\n",
      "Traitement :  2016-11-08-20-41_Idaho.txt\n",
      "Traitement :  2016-11-08-20-41_Pennsylvanie.txt\n",
      "Traitement :  2016-11-08-20-43_Virginie_Occidentale.txt\n",
      "Traitement :  2016-11-08-20-48_Maryland.txt\n",
      "Traitement :  2016-11-08-20-48_Mississippi.txt\n",
      "Traitement :  2016-11-08-20-48_Rhode_Island.txt\n",
      "Traitement :  2016-11-08-20-50_Michigan.txt\n",
      "Traitement :  2016-11-08-20-51_Oklahoma.txt\n",
      "Traitement :  2016-11-08-20-52_Nebraska.txt\n",
      "Traitement :  2016-11-08-20-56_New_Jersey.txt\n",
      "Traitement :  2016-11-08-20-57_Indiana.txt\n",
      "Traitement :  2016-11-08-20-57_Kansas.txt\n",
      "Traitement :  2016-11-08-20-58_Maine.txt\n",
      "Traitement :  2016-11-08-20-59_Oregon.txt\n"
     ]
    }
   ],
   "source": [
    "for file_name in list_File :\n",
    "    chargement(file_name)"
   ]
  },
  {
   "cell_type": "code",
   "execution_count": 2,
   "metadata": {
    "collapsed": false
   },
   "outputs": [
    {
     "data": {
      "text/plain": [
       "['2016-11-08-20-00_Minnesota.txt',\n",
       " '2016-11-08-20-01_Alabama.txt',\n",
       " '2016-11-08-20-01_Montana.txt',\n",
       " '2016-11-08-20-01_Utah.txt',\n",
       " '2016-11-08-20-02_Caroline_du_Sud.txt',\n",
       " '2016-11-08-20-02_New_York.txt',\n",
       " '2016-11-08-20-03_Nouveau_Mexique.txt',\n",
       " '2016-11-08-20-04_Californie.txt',\n",
       " '2016-11-08-20-04_Colorado.txt',\n",
       " '2016-11-08-20-05_Connecticut.txt',\n",
       " '2016-11-08-20-08_District_de_Columbia.txt',\n",
       " '2016-11-08-20-08_Kentucky.txt',\n",
       " '2016-11-08-20-09_Caroline_du_Nord.txt',\n",
       " '2016-11-08-20-09_Vermont.txt',\n",
       " '2016-11-08-20-10_Dakota_du_Sud.txt',\n",
       " '2016-11-08-20-11_Alaska.txt',\n",
       " '2016-11-08-20-13_Arkansas.txt',\n",
       " '2016-11-08-20-13_Washington.txt',\n",
       " '2016-11-08-20-15_Hawai.txt',\n",
       " '2016-11-08-20-17_Wisconsin.txt',\n",
       " '2016-11-08-20-19_Georgie.txt',\n",
       " '2016-11-08-20-22_Ohio.txt',\n",
       " '2016-11-08-20-24_Missouri.txt',\n",
       " '2016-11-08-20-24_New_Hampshire.txt',\n",
       " '2016-11-08-20-24_Virginie.txt',\n",
       " '2016-11-08-20-27_Iowa.txt',\n",
       " '2016-11-08-20-28_Delaware.txt',\n",
       " '2016-11-08-20-29_Arizona.txt',\n",
       " '2016-11-08-20-31_Louisiane.txt',\n",
       " '2016-11-08-20-31_Massachusetts.txt',\n",
       " '2016-11-08-20-31_Texas.txt',\n",
       " '2016-11-08-20-34_Dakota_du_Nord.txt',\n",
       " '2016-11-08-20-35_Tennessee.txt',\n",
       " '2016-11-08-20-36_Wyoming.txt',\n",
       " '2016-11-08-20-37_Floride.txt',\n",
       " '2016-11-08-20-37_Illinois.txt',\n",
       " '2016-11-08-20-40_Nevada.txt',\n",
       " '2016-11-08-20-41_Idaho.txt',\n",
       " '2016-11-08-20-41_Pennsylvanie.txt',\n",
       " '2016-11-08-20-43_Virginie_Occidentale.txt',\n",
       " '2016-11-08-20-48_Maryland.txt',\n",
       " '2016-11-08-20-48_Mississippi.txt',\n",
       " '2016-11-08-20-48_Rhode_Island.txt',\n",
       " '2016-11-08-20-50_Michigan.txt',\n",
       " '2016-11-08-20-51_Oklahoma.txt',\n",
       " '2016-11-08-20-52_Nebraska.txt',\n",
       " '2016-11-08-20-56_New_Jersey.txt',\n",
       " '2016-11-08-20-57_Indiana.txt',\n",
       " '2016-11-08-20-57_Kansas.txt',\n",
       " '2016-11-08-20-58_Maine.txt',\n",
       " '2016-11-08-20-59_Oregon.txt']"
      ]
     },
     "execution_count": 2,
     "metadata": {},
     "output_type": "execute_result"
    }
   ],
   "source": [
    "list_File"
   ]
  },
  {
   "cell_type": "code",
   "execution_count": 31,
   "metadata": {
    "collapsed": false
   },
   "outputs": [
    {
     "name": "stdout",
     "output_type": "stream",
     "text": [
      "{'_id': 'Californie', 'number': 14610499}\n",
      "{'_id': 'Minnesota', 'number': 2944813}\n",
      "CPU times: user 12 ms, sys: 0 ns, total: 12 ms\n",
      "Wall time: 34.6 s\n"
     ]
    }
   ],
   "source": [
    "%%time\n",
    "#c.POTUS.election.find({\"STATE\": \"Minnesota\"}).cou\n",
    "#c.POTUS.election.group({})\n",
    "#c.POTUS.election.aggregate([{$group : { _id: STATE :{$STATE:\"$STATE\"} } }])\n",
    "\n",
    "\n",
    "myCurso = c.POTUS.election.aggregate([{'$group' : { '_id': '$STATE' ,'number': { '$sum' : 1} }}])\n",
    "\n",
    "for i in myCurso:\n",
    "    print(i)\n"
   ]
  },
  {
   "cell_type": "code",
   "execution_count": 53,
   "metadata": {
    "collapsed": false
   },
   "outputs": [
    {
     "name": "stdout",
     "output_type": "stream",
     "text": [
      "CPU times: user 12 ms, sys: 0 ns, total: 12 ms\n",
      "Wall time: 34.2 s\n"
     ]
    }
   ],
   "source": [
    "%%time\n",
    "myCurso = c.POTUS.election.aggregate([{'$group' : { '_id': { 'STATE' :'$STATE', 'CANDIDATE':'$CANDIDATE'},'total': { '$sum' : 1} }}])\n"
   ]
  },
  {
   "cell_type": "code",
   "execution_count": 54,
   "metadata": {
    "collapsed": false
   },
   "outputs": [
    {
     "name": "stdout",
     "output_type": "stream",
     "text": [
      "{'_id': {'CANDIDATE': 'Blanc', 'STATE': 'Californie'}, 'total': 428915}\n",
      "{'_id': {'CANDIDATE': 'McMullin', 'STATE': 'Californie'}, 'total': 39586}\n",
      "{'_id': {'CANDIDATE': 'Johnson', 'STATE': 'Californie'}, 'total': 478499}\n",
      "{'_id': {'CANDIDATE': 'Stein', 'STATE': 'Californie'}, 'total': 278657}\n",
      "{'_id': {'CANDIDATE': 'Clinton', 'STATE': 'Californie'}, 'total': 8753788}\n",
      "{'_id': {'CANDIDATE': 'Castle', 'STATE': 'Minnesota'}, 'total': 9456}\n",
      "{'_id': {'CANDIDATE': 'Autre', 'STATE': 'Minnesota'}, 'total': 41657}\n",
      "{'_id': {'CANDIDATE': 'Clinton', 'STATE': 'Minnesota'}, 'total': 1367716}\n",
      "{'_id': {'CANDIDATE': 'Stein', 'STATE': 'Minnesota'}, 'total': 36985}\n",
      "{'_id': {'CANDIDATE': 'Autre', 'STATE': 'Californie'}, 'total': 147244}\n",
      "{'_id': {'CANDIDATE': 'McMullin', 'STATE': 'Minnesota'}, 'total': 53076}\n",
      "{'_id': {'CANDIDATE': 'Trump', 'STATE': 'Californie'}, 'total': 4483810}\n",
      "{'_id': {'CANDIDATE': 'Johnson', 'STATE': 'Minnesota'}, 'total': 112972}\n",
      "{'_id': {'CANDIDATE': 'Trump', 'STATE': 'Minnesota'}, 'total': 1322951}\n"
     ]
    }
   ],
   "source": [
    "x =[]\n",
    "for i in myCurso:\n",
    "    x.append(i)\n",
    "    print(i)"
   ]
  },
  {
   "cell_type": "code",
   "execution_count": 95,
   "metadata": {
    "collapsed": false
   },
   "outputs": [
    {
     "name": "stdout",
     "output_type": "stream",
     "text": [
      "         STATE CANDIDATE    ToTaL\n",
      "0   Californie     Blanc   428915\n",
      "1   Californie  McMullin    39586\n",
      "2   Californie   Johnson   478499\n",
      "3   Californie     Stein   278657\n",
      "4   Californie   Clinton  8753788\n",
      "5    Minnesota    Castle     9456\n",
      "6    Minnesota     Autre    41657\n",
      "7    Minnesota   Clinton  1367716\n",
      "8    Minnesota     Stein    36985\n",
      "9   Californie     Autre   147244\n",
      "10   Minnesota  McMullin    53076\n",
      "11  Californie     Trump  4483810\n",
      "12   Minnesota   Johnson   112972\n",
      "13   Minnesota     Trump  1322951\n"
     ]
    }
   ],
   "source": [
    "#result = pd.DataFrame(list(myCurso)\n",
    "\n",
    "dic_election_list =[]\n",
    "for elt in x :\n",
    "    f = elt['total']\n",
    "    e  = elt['_id']\n",
    "    li = [e['STATE'],e['CANDIDATE'],f]\n",
    "    dic_election_list.append(li)\n",
    "\n",
    "df =pd.DataFrame(dic_election_list, columns=[\"STATE\", \"CANDIDATE\", \"ToTaL\"])\n",
    "\n",
    "print(df)"
   ]
  },
  {
   "cell_type": "code",
   "execution_count": 93,
   "metadata": {
    "collapsed": false
   },
   "outputs": [
    {
     "data": {
      "text/html": [
       "<div>\n",
       "<table border=\"1\" class=\"dataframe\">\n",
       "  <thead>\n",
       "    <tr style=\"text-align: right;\">\n",
       "      <th></th>\n",
       "      <th>STATE</th>\n",
       "      <th>CANDIDATE</th>\n",
       "      <th>ToTaL</th>\n",
       "    </tr>\n",
       "  </thead>\n",
       "  <tbody>\n",
       "    <tr>\n",
       "      <th>0</th>\n",
       "      <td>Californie</td>\n",
       "      <td>Blanc</td>\n",
       "      <td>428915</td>\n",
       "    </tr>\n",
       "    <tr>\n",
       "      <th>1</th>\n",
       "      <td>Californie</td>\n",
       "      <td>McMullin</td>\n",
       "      <td>39586</td>\n",
       "    </tr>\n",
       "    <tr>\n",
       "      <th>2</th>\n",
       "      <td>Californie</td>\n",
       "      <td>Johnson</td>\n",
       "      <td>478499</td>\n",
       "    </tr>\n",
       "    <tr>\n",
       "      <th>3</th>\n",
       "      <td>Californie</td>\n",
       "      <td>Stein</td>\n",
       "      <td>278657</td>\n",
       "    </tr>\n",
       "    <tr>\n",
       "      <th>4</th>\n",
       "      <td>Californie</td>\n",
       "      <td>Clinton</td>\n",
       "      <td>8753788</td>\n",
       "    </tr>\n",
       "    <tr>\n",
       "      <th>5</th>\n",
       "      <td>Minnesota</td>\n",
       "      <td>Castle</td>\n",
       "      <td>9456</td>\n",
       "    </tr>\n",
       "    <tr>\n",
       "      <th>6</th>\n",
       "      <td>Minnesota</td>\n",
       "      <td>Autre</td>\n",
       "      <td>41657</td>\n",
       "    </tr>\n",
       "    <tr>\n",
       "      <th>7</th>\n",
       "      <td>Minnesota</td>\n",
       "      <td>Clinton</td>\n",
       "      <td>1367716</td>\n",
       "    </tr>\n",
       "    <tr>\n",
       "      <th>8</th>\n",
       "      <td>Minnesota</td>\n",
       "      <td>Stein</td>\n",
       "      <td>36985</td>\n",
       "    </tr>\n",
       "    <tr>\n",
       "      <th>9</th>\n",
       "      <td>Californie</td>\n",
       "      <td>Autre</td>\n",
       "      <td>147244</td>\n",
       "    </tr>\n",
       "    <tr>\n",
       "      <th>10</th>\n",
       "      <td>Minnesota</td>\n",
       "      <td>McMullin</td>\n",
       "      <td>53076</td>\n",
       "    </tr>\n",
       "    <tr>\n",
       "      <th>11</th>\n",
       "      <td>Californie</td>\n",
       "      <td>Trump</td>\n",
       "      <td>4483810</td>\n",
       "    </tr>\n",
       "    <tr>\n",
       "      <th>12</th>\n",
       "      <td>Minnesota</td>\n",
       "      <td>Johnson</td>\n",
       "      <td>112972</td>\n",
       "    </tr>\n",
       "    <tr>\n",
       "      <th>13</th>\n",
       "      <td>Minnesota</td>\n",
       "      <td>Trump</td>\n",
       "      <td>1322951</td>\n",
       "    </tr>\n",
       "  </tbody>\n",
       "</table>\n",
       "</div>"
      ],
      "text/plain": [
       "         STATE CANDIDATE    ToTaL\n",
       "0   Californie     Blanc   428915\n",
       "1   Californie  McMullin    39586\n",
       "2   Californie   Johnson   478499\n",
       "3   Californie     Stein   278657\n",
       "4   Californie   Clinton  8753788\n",
       "5    Minnesota    Castle     9456\n",
       "6    Minnesota     Autre    41657\n",
       "7    Minnesota   Clinton  1367716\n",
       "8    Minnesota     Stein    36985\n",
       "9   Californie     Autre   147244\n",
       "10   Minnesota  McMullin    53076\n",
       "11  Californie     Trump  4483810\n",
       "12   Minnesota   Johnson   112972\n",
       "13   Minnesota     Trump  1322951"
      ]
     },
     "execution_count": 93,
     "metadata": {},
     "output_type": "execute_result"
    }
   ],
   "source": [
    "#result.describe()\n"
   ]
  },
  {
   "cell_type": "code",
   "execution_count": 77,
   "metadata": {
    "collapsed": true
   },
   "outputs": [],
   "source": [
    "COL = [\"Time\", \"State\", \"Candidate\"]"
   ]
  },
  {
   "cell_type": "code",
   "execution_count": 19,
   "metadata": {
    "collapsed": false
   },
   "outputs": [],
   "source": [
    "df_Minnesota = pd.read_csv(\"data_POTUS/2016-11-08-20-00_Minnesota.txt\", sep=\";\", header = None, names = COL)"
   ]
  },
  {
   "cell_type": "code",
   "execution_count": 33,
   "metadata": {
    "collapsed": false
   },
   "outputs": [
    {
     "data": {
      "text/plain": [
       "Clinton     1367716\n",
       "Trump       1322951\n",
       "Johnson      112972\n",
       "McMullin      53076\n",
       "Autre         41657\n",
       "Stein         36985\n",
       "Castle         9456\n",
       "Name: Candidate, dtype: int64"
      ]
     },
     "execution_count": 33,
     "metadata": {},
     "output_type": "execute_result"
    }
   ],
   "source": [
    "df_Minnesota[\"Candidate\"].value_counts()"
   ]
  },
  {
   "cell_type": "code",
   "execution_count": 25,
   "metadata": {
    "collapsed": false
   },
   "outputs": [
    {
     "data": {
      "text/html": [
       "<div>\n",
       "<table border=\"1\" class=\"dataframe\">\n",
       "  <thead>\n",
       "    <tr style=\"text-align: right;\">\n",
       "      <th></th>\n",
       "      <th>Time</th>\n",
       "      <th>State</th>\n",
       "      <th>Candidate</th>\n",
       "    </tr>\n",
       "  </thead>\n",
       "  <tbody>\n",
       "    <tr>\n",
       "      <th>2944808</th>\n",
       "      <td>2016-11-08T20:00</td>\n",
       "      <td>Minnesota</td>\n",
       "      <td>Autre</td>\n",
       "    </tr>\n",
       "    <tr>\n",
       "      <th>2944809</th>\n",
       "      <td>2016-11-08T20:00</td>\n",
       "      <td>Minnesota</td>\n",
       "      <td>Autre</td>\n",
       "    </tr>\n",
       "    <tr>\n",
       "      <th>2944810</th>\n",
       "      <td>2016-11-08T20:00</td>\n",
       "      <td>Minnesota</td>\n",
       "      <td>Autre</td>\n",
       "    </tr>\n",
       "    <tr>\n",
       "      <th>2944811</th>\n",
       "      <td>2016-11-08T20:00</td>\n",
       "      <td>Minnesota</td>\n",
       "      <td>Autre</td>\n",
       "    </tr>\n",
       "    <tr>\n",
       "      <th>2944812</th>\n",
       "      <td>2016-11-08T20:00</td>\n",
       "      <td>Minnesota</td>\n",
       "      <td>Autre</td>\n",
       "    </tr>\n",
       "  </tbody>\n",
       "</table>\n",
       "</div>"
      ],
      "text/plain": [
       "                     Time      State Candidate\n",
       "2944808  2016-11-08T20:00  Minnesota     Autre\n",
       "2944809  2016-11-08T20:00  Minnesota     Autre\n",
       "2944810  2016-11-08T20:00  Minnesota     Autre\n",
       "2944811  2016-11-08T20:00  Minnesota     Autre\n",
       "2944812  2016-11-08T20:00  Minnesota     Autre"
      ]
     },
     "execution_count": 25,
     "metadata": {},
     "output_type": "execute_result"
    }
   ],
   "source": [
    "df_Minnesota.tail()"
   ]
  },
  {
   "cell_type": "code",
   "execution_count": 46,
   "metadata": {
    "collapsed": true
   },
   "outputs": [],
   "source": [
    "db = c[\"dontexist\"]\n",
    "cn = db[\"mycollection\"]"
   ]
  },
  {
   "cell_type": "code",
   "execution_count": 56,
   "metadata": {
    "collapsed": false
   },
   "outputs": [
    {
     "name": "stdout",
     "output_type": "stream",
     "text": [
      "--- 3.296091079711914 seconds ---\n"
     ]
    }
   ],
   "source": [
    "start_time = time.time()\n",
    "many = df[2844809:2944809].to_dict(orient='records')\n",
    "cn.insert_many(many)\n",
    "print(\"--- %s seconds ---\" % (time.time() - start_time))"
   ]
  },
  {
   "cell_type": "code",
   "execution_count": 81,
   "metadata": {
    "collapsed": false
   },
   "outputs": [
    {
     "data": {
      "text/plain": [
       "100000"
      ]
     },
     "execution_count": 81,
     "metadata": {},
     "output_type": "execute_result"
    }
   ],
   "source": [
    "len(many)"
   ]
  },
  {
   "cell_type": "code",
   "execution_count": 61,
   "metadata": {
    "collapsed": false
   },
   "outputs": [
    {
     "data": {
      "text/plain": [
       "MongoClient(host=['172.31.31.101:27017', '172.31.31.100:27017', '172.31.31.102:27017'], document_class=dict, tz_aware=False, connect=True, replicaset='replica-set')"
      ]
     },
     "execution_count": 61,
     "metadata": {},
     "output_type": "execute_result"
    }
   ],
   "source": [
    "c"
   ]
  },
  {
   "cell_type": "code",
   "execution_count": 49,
   "metadata": {
    "collapsed": false
   },
   "outputs": [
    {
     "data": {
      "text/plain": [
       "1500026"
      ]
     },
     "execution_count": 49,
     "metadata": {},
     "output_type": "execute_result"
    }
   ],
   "source": [
    "cn.count()"
   ]
  },
  {
   "cell_type": "code",
   "execution_count": 57,
   "metadata": {
    "collapsed": false
   },
   "outputs": [
    {
     "data": {
      "text/plain": [
       "41653"
      ]
     },
     "execution_count": 57,
     "metadata": {},
     "output_type": "execute_result"
    }
   ],
   "source": [
    "cn.find({\"Candidate\": \"Autre\"}).count()"
   ]
  },
  {
   "cell_type": "code",
   "execution_count": 89,
   "metadata": {
    "collapsed": false
   },
   "outputs": [
    {
     "data": {
      "text/plain": [
       "2944813"
      ]
     },
     "execution_count": 89,
     "metadata": {},
     "output_type": "execute_result"
    }
   ],
   "source": [
    "len(df)"
   ]
  },
  {
   "cell_type": "code",
   "execution_count": 45,
   "metadata": {
    "collapsed": false
   },
   "outputs": [
    {
     "data": {
      "text/plain": [
       "['mycollection', 'system.indexes']"
      ]
     },
     "execution_count": 45,
     "metadata": {},
     "output_type": "execute_result"
    }
   ],
   "source": [
    "c.dontexist.collection_names()"
   ]
  },
  {
   "cell_type": "code",
   "execution_count": 49,
   "metadata": {
    "collapsed": false
   },
   "outputs": [],
   "source": [
    "db = c[\"dontexist\"]"
   ]
  },
  {
   "cell_type": "code",
   "execution_count": 50,
   "metadata": {
    "collapsed": false
   },
   "outputs": [
    {
     "data": {
      "text/plain": [
       "['mycollection', 'system.indexes']"
      ]
     },
     "execution_count": 50,
     "metadata": {},
     "output_type": "execute_result"
    }
   ],
   "source": [
    "db.collection_names()\n"
   ]
  },
  {
   "cell_type": "code",
   "execution_count": 54,
   "metadata": {
    "collapsed": true
   },
   "outputs": [],
   "source": [
    "cn = db[\"mycollection\"]"
   ]
  },
  {
   "cell_type": "code",
   "execution_count": 67,
   "metadata": {
    "collapsed": false
   },
   "outputs": [
    {
     "name": "stdout",
     "output_type": "stream",
     "text": [
      "{'item': 'box', '_id': ObjectId('58769be76ee75c8173207f03'), 'qty': 20.0}\n"
     ]
    }
   ],
   "source": [
    "print(collection.find_one())"
   ]
  },
  {
   "cell_type": "code",
   "execution_count": 64,
   "metadata": {
    "collapsed": false
   },
   "outputs": [
    {
     "data": {
      "text/plain": [
       "<pymongo.results.InsertOneResult at 0x7fc316c69fc0>"
      ]
     },
     "execution_count": 64,
     "metadata": {},
     "output_type": "execute_result"
    }
   ],
   "source": [
    "cn.insert_one(\n",
    "    {\"Time\":\"2016-11-08T20:00\",\n",
    "     \"State\":\"Minnesota\",\n",
    "     \"Candidate\":\"Clinton\"})"
   ]
  },
  {
   "cell_type": "code",
   "execution_count": 80,
   "metadata": {
    "collapsed": false
   },
   "outputs": [
    {
     "data": {
      "text/plain": [
       "<pymongo.results.InsertManyResult at 0x7fc316c5b7e0>"
      ]
     },
     "execution_count": 80,
     "metadata": {},
     "output_type": "execute_result"
    }
   ],
   "source": [
    "cn.insert_many(\n",
    "    [{\"Time\":\"2016-11-08T20:00\",\n",
    "      \"State\":\"Minnesota\",\"Candidate\":\"Clinton\"},\n",
    "     {\"Time\":\"2016-11-08T20:00\",\n",
    "      \"State\":\"Minnesota\",\"Candidate\":\"Clinton\"}])"
   ]
  },
  {
   "cell_type": "code",
   "execution_count": 88,
   "metadata": {
    "collapsed": false
   },
   "outputs": [
    {
     "data": {
      "text/plain": [
       "<pymongo.results.InsertManyResult at 0x7fc316c69ee8>"
      ]
     },
     "execution_count": 88,
     "metadata": {},
     "output_type": "execute_result"
    }
   ],
   "source": [
    "cn.insert_many(many)"
   ]
  },
  {
   "cell_type": "code",
   "execution_count": 62,
   "metadata": {
    "collapsed": false
   },
   "outputs": [
    {
     "data": {
      "text/plain": [
       "'[{\"Time\":\"2016-11-08T20:00\",\"State\":\"Minnesota\",\"Candidate\":\"Clinton\"}]'"
      ]
     },
     "execution_count": 62,
     "metadata": {},
     "output_type": "execute_result"
    }
   ],
   "source": [
    "one"
   ]
  },
  {
   "cell_type": "code",
   "execution_count": 85,
   "metadata": {
    "collapsed": false
   },
   "outputs": [
    {
     "data": {
      "text/plain": [
       "'[{\"Time\":\"2016-11-08T20:00\",\"State\":\"Minnesota\",\"Candidate\":\"Clinton\"},{\"Time\":\"2016-11-08T20:00\",\"State\":\"Minnesota\",\"Candidate\":\"Clinton\"},{\"Time\":\"2016-11-08T20:00\",\"State\":\"Minnesota\",\"Candidate\":\"Clinton\"},{\"Time\":\"2016-11-08T20:00\",\"State\":\"Minnesota\",\"Candidate\":\"Clinton\"},{\"Time\":\"2016-11-08T20:00\",\"State\":\"Minnesota\",\"Candidate\":\"Clinton\"},{\"Time\":\"2016-11-08T20:00\",\"State\":\"Minnesota\",\"Candidate\":\"Clinton\"},{\"Time\":\"2016-11-08T20:00\",\"State\":\"Minnesota\",\"Candidate\":\"Clinton\"},{\"Time\":\"2016-11-08T20:00\",\"State\":\"Minnesota\",\"Candidate\":\"Clinton\"},{\"Time\":\"2016-11-08T20:00\",\"State\":\"Minnesota\",\"Candidate\":\"Clinton\"},{\"Time\":\"2016-11-08T20:00\",\"State\":\"Minnesota\",\"Candidate\":\"Clinton\"},{\"Time\":\"2016-11-08T20:00\",\"State\":\"Minnesota\",\"Candidate\":\"Clinton\"},{\"Time\":\"2016-11-08T20:00\",\"State\":\"Minnesota\",\"Candidate\":\"Clinton\"},{\"Time\":\"2016-11-08T20:00\",\"State\":\"Minnesota\",\"Candidate\":\"Clinton\"},{\"Time\":\"2016-11-08T20:00\",\"State\":\"Minnesota\",\"Candidate\":\"Clinton\"},{\"Time\":\"2016-11-08T20:00\",\"State\":\"Minnesota\",\"Candidate\":\"Clinton\"},{\"Time\":\"2016-11-08T20:00\",\"State\":\"Minnesota\",\"Candidate\":\"Clinton\"},{\"Time\":\"2016-11-08T20:00\",\"State\":\"Minnesota\",\"Candidate\":\"Clinton\"},{\"Time\":\"2016-11-08T20:00\",\"State\":\"Minnesota\",\"Candidate\":\"Clinton\"},{\"Time\":\"2016-11-08T20:00\",\"State\":\"Minnesota\",\"Candidate\":\"Clinton\"},{\"Time\":\"2016-11-08T20:00\",\"State\":\"Minnesota\",\"Candidate\":\"Clinton\"}]'"
      ]
     },
     "execution_count": 85,
     "metadata": {},
     "output_type": "execute_result"
    }
   ],
   "source": [
    "many"
   ]
  },
  {
   "cell_type": "code",
   "execution_count": null,
   "metadata": {
    "collapsed": true
   },
   "outputs": [],
   "source": []
  }
 ],
 "metadata": {
  "kernelspec": {
   "display_name": "Python 3",
   "language": "python",
   "name": "python3"
  },
  "language_info": {
   "codemirror_mode": {
    "name": "ipython",
    "version": 3
   },
   "file_extension": ".py",
   "mimetype": "text/x-python",
   "name": "python",
   "nbconvert_exporter": "python",
   "pygments_lexer": "ipython3",
   "version": "3.5.1"
  }
 },
 "nbformat": 4,
 "nbformat_minor": 0
}
