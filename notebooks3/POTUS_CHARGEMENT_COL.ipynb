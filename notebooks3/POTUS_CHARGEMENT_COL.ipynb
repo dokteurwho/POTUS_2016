{
 "cells": [
  {
   "cell_type": "code",
   "execution_count": 1,
   "metadata": {
    "collapsed": false
   },
   "outputs": [],
   "source": [
    "import pymongo\n",
    "import os\n",
    "import pandas as pd\n",
    "\n",
    "import time"
   ]
  },
  {
   "cell_type": "markdown",
   "metadata": {},
   "source": [
    "## Addresses IP des 3 instances:"
   ]
  },
  {
   "cell_type": "code",
   "execution_count": 2,
   "metadata": {
    "collapsed": true
   },
   "outputs": [],
   "source": [
    "DB_IP = [\"172.31.31.100\", \"172.31.31.101\", \"172.31.31.102\"]"
   ]
  },
  {
   "cell_type": "markdown",
   "metadata": {},
   "source": [
    "## Nom du replica set:"
   ]
  },
  {
   "cell_type": "code",
   "execution_count": 3,
   "metadata": {
    "collapsed": true
   },
   "outputs": [],
   "source": [
    "REPLICA_SET = \"replica-set\""
   ]
  },
  {
   "cell_type": "markdown",
   "metadata": {},
   "source": [
    "## Liste des états:"
   ]
  },
  {
   "cell_type": "markdown",
   "metadata": {},
   "source": [
    "2016-11-08-20-00_Minnesota.txt\n",
    "2016-11-08-20-01_Alabama.txt\n",
    "2016-11-08-20-01_Montana.txt\n",
    "2016-11-08-20-01_Utah.txt\n",
    "2016-11-08-20-02_Caroline_du_Sud.txt\n",
    "2016-11-08-20-02_New_York.txt\n",
    "2016-11-08-20-03_Nouveau_Mexique.txt\n",
    "2016-11-08-20-04_Californie.txt\n",
    "2016-11-08-20-04_Colorado.txt\n",
    "2016-11-08-20-05_Connecticut.txt\n",
    "2016-11-08-20-08_District_de_Columbia.txt\n",
    "2016-11-08-20-08_Kentucky.txt\n",
    "2016-11-08-20-09_Caroline_du_Nord.txt\n",
    "2016-11-08-20-09_Vermont.txt\n",
    "2016-11-08-20-10_Dakota_du_Sud.txt\n",
    "2016-11-08-20-11_Alaska.txt\n",
    "2016-11-08-20-13_Arkansas.txt\n",
    "2016-11-08-20-13_Washington.txt\n",
    "2016-11-08-20-15_Hawai.txt\n",
    "2016-11-08-20-17_Wisconsin.txt\n",
    "2016-11-08-20-19_Georgie.txt\n",
    "2016-11-08-20-22_Ohio.txt\n",
    "2016-11-08-20-24_Missouri.txt\n",
    "2016-11-08-20-24_New_Hampshire.txt\n",
    "2016-11-08-20-24_Virginie.txt\n",
    "2016-11-08-20-27_Iowa.txt\n",
    "2016-11-08-20-28_Delaware.txt\n",
    "2016-11-08-20-29_Arizona.txt\n",
    "2016-11-08-20-31_Louisiane.txt\n",
    "2016-11-08-20-31_Massachusetts.txt\n",
    "2016-11-08-20-31_Texas.txt\n",
    "2016-11-08-20-34_Dakota_du_Nord.txt\n",
    "2016-11-08-20-35_Tennessee.txt\n",
    "2016-11-08-20-36_Wyoming.txt\n",
    "2016-11-08-20-37_Floride.txt\n",
    "2016-11-08-20-37_Illinois.txt\n",
    "2016-11-08-20-40_Nevada.txt\n",
    "2016-11-08-20-41_Idaho.txt\n",
    "2016-11-08-20-41_Pennsylvanie.txt\n",
    "2016-11-08-20-43_Virginie_Occidentale.txt\n",
    "2016-11-08-20-48_Maryland.txt\n",
    "2016-11-08-20-48_Mississippi.txt\n",
    "2016-11-08-20-48_Rhode_Island.txt\n",
    "2016-11-08-20-50_Michigan.txt\n",
    "2016-11-08-20-51_Oklahoma.txt\n",
    "2016-11-08-20-52_Nebraska.txt\n",
    "2016-11-08-20-56_New_Jersey.txt\n",
    "2016-11-08-20-57_Indiana.txt\n",
    "2016-11-08-20-57_Kansas.txt\n",
    "2016-11-08-20-58_Maine.txt\n",
    "2016-11-08-20-59_Oregon.txt\""
   ]
  },
  {
   "cell_type": "code",
   "execution_count": 4,
   "metadata": {
    "collapsed": true
   },
   "outputs": [],
   "source": [
    "MONGO_CLI = \"mongodb://{}:27017,{}:27017,{}:27017/?replicaSet={}\".format(DB_IP[0], DB_IP[1], DB_IP[2], REPLICA_SET)"
   ]
  },
  {
   "cell_type": "code",
   "execution_count": 5,
   "metadata": {
    "collapsed": false
   },
   "outputs": [
    {
     "name": "stdout",
     "output_type": "stream",
     "text": [
      "replica-set/172.31.31.100:27017,172.31.31.101:27017,172.31.31.102:27017\n"
     ]
    }
   ],
   "source": [
    "REPLICA = \"{}/{}:27017,{}:27017,{}:27017\".format(REPLICA_SET, DB_IP[0], DB_IP[1], DB_IP[2])\n",
    "print(REPLICA)"
   ]
  },
  {
   "cell_type": "code",
   "execution_count": 6,
   "metadata": {
    "collapsed": false
   },
   "outputs": [
    {
     "data": {
      "text/plain": [
       "'mongodb://172.31.31.100:27017,172.31.31.101:27017,172.31.31.102:27017/?replicaSet=replica-set'"
      ]
     },
     "execution_count": 6,
     "metadata": {},
     "output_type": "execute_result"
    }
   ],
   "source": [
    "MONGO_CLI"
   ]
  },
  {
   "cell_type": "code",
   "execution_count": 7,
   "metadata": {
    "collapsed": false
   },
   "outputs": [],
   "source": [
    "c = pymongo.MongoClient(MONGO_CLI)"
   ]
  },
  {
   "cell_type": "code",
   "execution_count": 8,
   "metadata": {
    "collapsed": false
   },
   "outputs": [
    {
     "data": {
      "text/plain": [
       "['local', 'dontexist', 'POTUS']"
      ]
     },
     "execution_count": 8,
     "metadata": {},
     "output_type": "execute_result"
    }
   ],
   "source": [
    "c.database_names()"
   ]
  },
  {
   "cell_type": "markdown",
   "metadata": {},
   "source": [
    "##### Fonction appel script sur le front"
   ]
  },
  {
   "cell_type": "code",
   "execution_count": 9,
   "metadata": {
    "collapsed": true
   },
   "outputs": [],
   "source": [
    "import subprocess\n",
    "from subprocess import call\n",
    "def chargement(filename,DIR,col):\n",
    "        #DIR = \"~/POTUS/data_POTUS/\"\n",
    "        # on a mis les scripts sur le même repertoire que les données\n",
    "        script = DIR + \"import.bash\"\n",
    "        #col = \"col1\"\n",
    "        # print script\n",
    "        call([script, filename ,col])\n",
    "        # insertion dans la collection l' etat traité\n",
    "        c.POTUS.traitement.insert_one({'traitement': filename})\n",
    "        print(\"Traitement : \", filename)\n",
    "        \n",
    "        "
   ]
  },
  {
   "cell_type": "code",
   "execution_count": null,
   "metadata": {
    "collapsed": true
   },
   "outputs": [],
   "source": [
    "etat = 'Minnesota'\n",
    "myCurso = c.POTUS.col1.aggregate([{'$group' : { '_id': { 'STATE' :'$STATE', 'CANDIDATE':'$CANDIDATE'},'total': { '$sum' : 1} }}])\n",
    "x =[]\n",
    "for i in myCurso:\n",
    "    x.append(i)"
   ]
  },
  {
   "cell_type": "code",
   "execution_count": 34,
   "metadata": {
    "collapsed": true
   },
   "outputs": [],
   "source": [
    "\n",
    "def prep_dico(nom_etat,x):\n",
    "\n",
    "    #dic_election_list =[]\n",
    "    n_autres = 0\n",
    "    n_trump_vote = 0\n",
    "    n_clinton_vote = 0\n",
    "    for elt in x :\n",
    "        \n",
    "        f = elt['total']\n",
    "        e  = elt['_id']\n",
    "        if (e['STATE'] == nom_etat) :\n",
    "            if (e['CANDIDATE'] == 'Trump') : \n",
    "                n_trump_vote = f\n",
    "            else : \n",
    "                if e['CANDIDATE'] == 'Clinton' :\n",
    "                    n_clinton_vote = f\n",
    "                else : \n",
    "                    n_autres += f\n",
    "    print('STATE     : ' + str(nom_etat))\n",
    "    print('n_trum    : ' + str(n_trump_vote))\n",
    "    print('n_clinton : ' + str(n_clinton_vote))    \n",
    "    print('autres    : ' + str(n_autres))\n",
    "    \n",
    "    \n",
    "    #    li = [e['STATE'],e['CANDIDATE'],f]\n",
    "    #    dic_election_list.append(li)\n",
    "\n",
    "    #df =pd.DataFrame(dic_election_list, columns=[\"STATE\", \"CANDIDATE\", \"ToTaL\"])\n",
    "    c.POTUS.synthese.insert_one(\n",
    "    {\n",
    "     \"state\": nom_etat,\n",
    "     \"Clinton\": n_clinton_vote,\n",
    "     \"Trump\" : n_trump_vote,\n",
    "     \"Other\" : n_autres   })\n"
   ]
  },
  {
   "cell_type": "code",
   "execution_count": 10,
   "metadata": {
    "collapsed": true
   },
   "outputs": [],
   "source": [
    "list_File = [\n",
    "'2016-11-08-20-00_Minnesota.txt'\n",
    ",'2016-11-08-20-01_Alabama.txt'\n",
    ",'2016-11-08-20-01_Montana.txt'\n",
    ",'2016-11-08-20-01_Utah.txt'\n",
    ",'2016-11-08-20-02_Caroline_du_Sud.txt'\n",
    ",'2016-11-08-20-02_New_York.txt'\n",
    ",'2016-11-08-20-03_Nouveau_Mexique.txt'\n",
    ",'2016-11-08-20-04_Californie.txt'\n",
    ",'2016-11-08-20-04_Colorado.txt'\n",
    ",'2016-11-08-20-05_Connecticut.txt'\n",
    ",'2016-11-08-20-08_District_de_Columbia.txt'\n",
    ",'2016-11-08-20-08_Kentucky.txt'\n",
    ",'2016-11-08-20-09_Caroline_du_Nord.txt'\n",
    ",'2016-11-08-20-09_Vermont.txt'\n",
    ",'2016-11-08-20-10_Dakota_du_Sud.txt'\n",
    ",'2016-11-08-20-11_Alaska.txt'\n",
    ",'2016-11-08-20-13_Arkansas.txt'\n",
    ",'2016-11-08-20-13_Washington.txt'\n",
    ",'2016-11-08-20-15_Hawai.txt'\n",
    ",'2016-11-08-20-17_Wisconsin.txt'\n",
    ",'2016-11-08-20-19_Georgie.txt'\n",
    ",'2016-11-08-20-22_Ohio.txt'\n",
    ",'2016-11-08-20-24_Missouri.txt'\n",
    ",'2016-11-08-20-24_New_Hampshire.txt'\n",
    ",'2016-11-08-20-24_Virginie.txt'\n",
    ",'2016-11-08-20-27_Iowa.txt'\n",
    ",'2016-11-08-20-28_Delaware.txt'\n",
    ",'2016-11-08-20-29_Arizona.txt'\n",
    ",'2016-11-08-20-31_Louisiane.txt'\n",
    ",'2016-11-08-20-31_Massachusetts.txt'\n",
    ",'2016-11-08-20-31_Texas.txt'\n",
    ",'2016-11-08-20-34_Dakota_du_Nord.txt'\n",
    ",'2016-11-08-20-35_Tennessee.txt'\n",
    ",'2016-11-08-20-36_Wyoming.txt'\n",
    ",'2016-11-08-20-37_Floride.txt'\n",
    ",'2016-11-08-20-37_Illinois.txt'\n",
    ",'2016-11-08-20-40_Nevada.txt'\n",
    ",'2016-11-08-20-41_Idaho.txt'\n",
    ",'2016-11-08-20-41_Pennsylvanie.txt'\n",
    ",'2016-11-08-20-43_Virginie_Occidentale.txt'\n",
    ",'2016-11-08-20-48_Maryland.txt'\n",
    ",'2016-11-08-20-48_Mississippi.txt'\n",
    ",'2016-11-08-20-48_Rhode_Island.txt'\n",
    ",'2016-11-08-20-50_Michigan.txt'\n",
    ",'2016-11-08-20-51_Oklahoma.txt'\n",
    ",'2016-11-08-20-52_Nebraska.txt'\n",
    ",'2016-11-08-20-56_New_Jersey.txt'\n",
    ",'2016-11-08-20-57_Indiana.txt'\n",
    ",'2016-11-08-20-57_Kansas.txt'\n",
    ",'2016-11-08-20-58_Maine.txt'\n",
    ",'2016-11-08-20-59_Oregon.txt']"
   ]
  },
  {
   "cell_type": "code",
   "execution_count": 24,
   "metadata": {
    "collapsed": false
   },
   "outputs": [
    {
     "name": "stdout",
     "output_type": "stream",
     "text": [
      "['2016-11-08-20-00_Minnesota.txt', '2016-11-08-20-01_Alabama.txt', '2016-11-08-20-01_Montana.txt', '2016-11-08-20-01_Utah.txt', '2016-11-08-20-02_Caroline_du_Sud.txt', '2016-11-08-20-02_New_York.txt', '2016-11-08-20-03_Nouveau_Mexique.txt']\n"
     ]
    }
   ],
   "source": [
    "list_File_col1 = list_File[0:7]\n",
    "print(list_File_col1)\n"
   ]
  },
  {
   "cell_type": "markdown",
   "metadata": {},
   "source": [
    "# Alimentation Collection 1"
   ]
  },
  {
   "cell_type": "code",
   "execution_count": 25,
   "metadata": {
    "collapsed": false
   },
   "outputs": [
    {
     "name": "stdout",
     "output_type": "stream",
     "text": [
      "Traitement :  /home/ec2-user/POTUS/data_POTUS/2016-11-08-20-00_Minnesota.txt\n",
      "Minnesota\n",
      "n_trum : 1322951\n",
      "n_clinton1367716\n",
      "autres :254146\n",
      "STATE : Minnesota\n",
      "Traitement :  /home/ec2-user/POTUS/data_POTUS/2016-11-08-20-01_Alabama.txt\n",
      "Alabama\n",
      "n_trum : 1318255\n",
      "n_clinton729547\n",
      "autres :89680\n",
      "STATE : Alabama\n",
      "Traitement :  /home/ec2-user/POTUS/data_POTUS/2016-11-08-20-01_Montana.txt\n",
      "Montana\n",
      "n_trum : 279240\n",
      "n_clinton177709\n",
      "autres :59952\n",
      "STATE : Montana\n",
      "Traitement :  /home/ec2-user/POTUS/data_POTUS/2016-11-08-20-01_Utah.txt\n",
      "Utah\n",
      "n_trum : 515231\n",
      "n_clinton310676\n",
      "autres :305523\n",
      "STATE : Utah\n",
      "Traitement :  /home/ec2-user/POTUS/data_POTUS/2016-11-08-20-02_Caroline_du_Sud.txt\n",
      "Caroline_du_Sud\n",
      "n_trum : 1155389\n",
      "n_clinton855373\n",
      "autres :92265\n",
      "STATE : Caroline_du_Sud\n",
      "Traitement :  /home/ec2-user/POTUS/data_POTUS/2016-11-08-20-02_New_York.txt\n",
      "New_York\n",
      "n_trum : 2814346\n",
      "n_clinton4547418\n",
      "autres :425300\n",
      "STATE : New_York\n",
      "Traitement :  /home/ec2-user/POTUS/data_POTUS/2016-11-08-20-03_Nouveau_Mexique.txt\n",
      "Nouveau_Mexique\n",
      "n_trum : 319666\n",
      "n_clinton385234\n",
      "autres :99143\n",
      "STATE : Nouveau_Mexique\n",
      "CPU times: user 356 ms, sys: 44 ms, total: 400 ms\n",
      "Wall time: 14min 7s\n"
     ]
    }
   ],
   "source": [
    "%%time\n",
    "DIR = \"/home/ec2-user/POTUS/data_POTUS/\"\n",
    "for file in list_File_col1:\n",
    "    filename = DIR + file\n",
    "    chargement(filename,DIR,\"col1\")\n",
    "    myCurso = c.POTUS.col1.aggregate([{'$group' : { '_id': { 'STATE' :'$STATE', 'CANDIDATE':'$CANDIDATE'},'total': { '$sum' : 1} }}])\n",
    "    x =[]\n",
    "    for i in myCurso:\n",
    "        x.append(i)\n",
    "    etat = file[17:-4]\n",
    "    print (etat)\n",
    "    prep_dico(etat,x)    "
   ]
  },
  {
   "cell_type": "markdown",
   "metadata": {},
   "source": [
    "## Alimentation Collection 2"
   ]
  },
  {
   "cell_type": "code",
   "execution_count": 26,
   "metadata": {
    "collapsed": false
   },
   "outputs": [
    {
     "name": "stdout",
     "output_type": "stream",
     "text": [
      "2016-11-08-20-04_Californie.txt\n"
     ]
    }
   ],
   "source": [
    "list_File_col2= list_File[7]\n",
    "print (list_File_col2)"
   ]
  },
  {
   "cell_type": "code",
   "execution_count": 27,
   "metadata": {
    "collapsed": false
   },
   "outputs": [
    {
     "name": "stdout",
     "output_type": "stream",
     "text": [
      "/home/ec2-user/POTUS/data_POTUS/2016-11-08-20-04_Californie.txt\n",
      "Traitement :  /home/ec2-user/POTUS/data_POTUS/2016-11-08-20-04_Californie.txt\n",
      "Californie\n",
      "n_trum : 4483810\n",
      "n_clinton8753788\n",
      "autres :1372901\n",
      "STATE : Californie\n",
      "CPU times: user 220 ms, sys: 40 ms, total: 260 ms\n",
      "Wall time: 11min 5s\n"
     ]
    }
   ],
   "source": [
    "%%time\n",
    "DIR = \"/home/ec2-user/POTUS/data_POTUS/\"\n",
    "filename = DIR + list_File_col2\n",
    "print (filename)\n",
    "chargement(filename,DIR,\"col2\")\n",
    "myCurso = c.POTUS.col2.aggregate([{'$group' : { '_id': { 'STATE' :'$STATE', 'CANDIDATE':'$CANDIDATE'},'total': { '$sum' : 1} }}])\n",
    "x =[]\n",
    "for i in myCurso:\n",
    "    x.append(i)\n",
    "etat = list_File_col2[17:-4]\n",
    "print (etat)\n",
    "prep_dico(etat,x)    "
   ]
  },
  {
   "cell_type": "markdown",
   "metadata": {},
   "source": [
    "## Alimentation Collection 3"
   ]
  },
  {
   "cell_type": "code",
   "execution_count": 28,
   "metadata": {
    "collapsed": false
   },
   "outputs": [
    {
     "name": "stdout",
     "output_type": "stream",
     "text": [
      "['2016-11-08-20-04_Colorado.txt', '2016-11-08-20-05_Connecticut.txt', '2016-11-08-20-08_District_de_Columbia.txt', '2016-11-08-20-08_Kentucky.txt', '2016-11-08-20-09_Caroline_du_Nord.txt', '2016-11-08-20-09_Vermont.txt', '2016-11-08-20-10_Dakota_du_Sud.txt', '2016-11-08-20-11_Alaska.txt', '2016-11-08-20-13_Arkansas.txt', '2016-11-08-20-13_Washington.txt']\n"
     ]
    }
   ],
   "source": [
    "list_File_col3 =list_File[8:18]\n",
    "print (list_File_col3)"
   ]
  },
  {
   "cell_type": "code",
   "execution_count": 29,
   "metadata": {
    "collapsed": false
   },
   "outputs": [
    {
     "name": "stdout",
     "output_type": "stream",
     "text": [
      "Traitement :  /home/ec2-user/POTUS/data_POTUS/2016-11-08-20-04_Colorado.txt\n",
      "Colorado\n",
      "n_trum : 1202484\n",
      "n_clinton1338870\n",
      "autres :317862\n",
      "STATE : Colorado\n",
      "Traitement :  /home/ec2-user/POTUS/data_POTUS/2016-11-08-20-05_Connecticut.txt\n",
      "Connecticut\n",
      "n_trum : 673215\n",
      "n_clinton897572\n",
      "autres :105147\n",
      "STATE : Connecticut\n",
      "Traitement :  /home/ec2-user/POTUS/data_POTUS/2016-11-08-20-08_District_de_Columbia.txt\n",
      "District_de_Columbia\n",
      "n_trum : 12723\n",
      "n_clinton282830\n",
      "autres :77022\n",
      "STATE : District_de_Columbia\n",
      "Traitement :  /home/ec2-user/POTUS/data_POTUS/2016-11-08-20-08_Kentucky.txt\n",
      "Kentucky\n",
      "n_trum : 1202971\n",
      "n_clinton628854\n",
      "autres :117429\n",
      "STATE : Kentucky\n",
      "Traitement :  /home/ec2-user/POTUS/data_POTUS/2016-11-08-20-09_Caroline_du_Nord.txt\n",
      "Caroline_du_Nord\n",
      "n_trum : 2362631\n",
      "n_clinton2189316\n",
      "autres :217693\n",
      "STATE : Caroline_du_Nord\n",
      "Traitement :  /home/ec2-user/POTUS/data_POTUS/2016-11-08-20-09_Vermont.txt\n",
      "Vermont\n",
      "n_trum : 95369\n",
      "n_clinton178573\n",
      "autres :41125\n",
      "STATE : Vermont\n",
      "Traitement :  /home/ec2-user/POTUS/data_POTUS/2016-11-08-20-10_Dakota_du_Sud.txt\n",
      "Dakota_du_Sud\n",
      "n_trum : 227721\n",
      "n_clinton117458\n",
      "autres :24914\n",
      "STATE : Dakota_du_Sud\n",
      "Traitement :  /home/ec2-user/POTUS/data_POTUS/2016-11-08-20-11_Alaska.txt\n",
      "Alaska\n",
      "n_trum : 163387\n",
      "n_clinton116454\n",
      "autres :41433\n",
      "STATE : Alaska\n",
      "Traitement :  /home/ec2-user/POTUS/data_POTUS/2016-11-08-20-13_Arkansas.txt\n",
      "Arkansas\n",
      "n_trum : 684872\n",
      "n_clinton380494\n",
      "autres :72406\n",
      "STATE : Arkansas\n",
      "Traitement :  /home/ec2-user/POTUS/data_POTUS/2016-11-08-20-13_Washington.txt\n",
      "Washington\n",
      "n_trum : 1221747\n",
      "n_clinton1742718\n",
      "autres :398935\n",
      "STATE : Washington\n",
      "CPU times: user 336 ms, sys: 64 ms, total: 400 ms\n",
      "Wall time: 15min 1s\n"
     ]
    }
   ],
   "source": [
    "%%time\n",
    "for file in list_File_col3:\n",
    "    filename = DIR + file\n",
    "    chargement(filename,DIR,\"col3\")\n",
    "    myCurso = c.POTUS.col3.aggregate([{'$group' : { '_id': { 'STATE' :'$STATE', 'CANDIDATE':'$CANDIDATE'},'total': { '$sum' : 1} }}])\n",
    "    x =[]\n",
    "    for i in myCurso:\n",
    "        x.append(i)\n",
    "    etat = file[17:-4]\n",
    "    print (etat)\n",
    "    prep_dico(etat,x)  "
   ]
  },
  {
   "cell_type": "markdown",
   "metadata": {},
   "source": [
    "## Alimentation Collection 4"
   ]
  },
  {
   "cell_type": "code",
   "execution_count": 32,
   "metadata": {
    "collapsed": false
   },
   "outputs": [
    {
     "name": "stdout",
     "output_type": "stream",
     "text": [
      "['2016-11-08-20-15_Hawai.txt', '2016-11-08-20-17_Wisconsin.txt', '2016-11-08-20-19_Georgie.txt', '2016-11-08-20-22_Ohio.txt', '2016-11-08-20-24_Missouri.txt', '2016-11-08-20-24_New_Hampshire.txt', '2016-11-08-20-24_Virginie.txt']\n"
     ]
    }
   ],
   "source": [
    "list_File_col4 =list_File[18:25]\n",
    "print (list_File_col4)"
   ]
  },
  {
   "cell_type": "code",
   "execution_count": 31,
   "metadata": {
    "collapsed": false
   },
   "outputs": [
    {
     "name": "stdout",
     "output_type": "stream",
     "text": [
      "Traitement :  /home/ec2-user/POTUS/data_POTUS/2016-11-08-20-15_Hawai.txt\n",
      "Hawai\n",
      "n_trum : 128847\n",
      "n_clinton266891\n",
      "autres :185426\n",
      "STATE : Hawai\n",
      "Traitement :  /home/ec2-user/POTUS/data_POTUS/2016-11-08-20-17_Wisconsin.txt\n",
      "Wisconsin\n",
      "n_trum : 1405284\n",
      "n_clinton1382536\n",
      "autres :188330\n",
      "STATE : Wisconsin\n",
      "Traitement :  /home/ec2-user/POTUS/data_POTUS/2016-11-08-20-19_Georgie.txt\n",
      "Georgie\n",
      "n_trum : 2089104\n",
      "n_clinton1877963\n",
      "autres :198338\n",
      "STATE : Georgie\n",
      "Traitement :  /home/ec2-user/POTUS/data_POTUS/2016-11-08-20-22_Ohio.txt\n",
      "Ohio\n",
      "n_trum : 2841005\n",
      "n_clinton2394164\n",
      "autres :372472\n",
      "STATE : Ohio\n",
      "Traitement :  /home/ec2-user/POTUS/data_POTUS/2016-11-08-20-24_Missouri.txt\n",
      "Missouri\n",
      "n_trum : 1594511\n",
      "n_clinton1071068\n",
      "autres :143023\n",
      "STATE : Missouri\n",
      "Traitement :  /home/ec2-user/POTUS/data_POTUS/2016-11-08-20-24_New_Hampshire.txt\n",
      "New_Hampshire\n",
      "n_trum : 345790\n",
      "n_clinton348526\n",
      "autres :49865\n",
      "STATE : New_Hampshire\n",
      "Traitement :  /home/ec2-user/POTUS/data_POTUS/2016-11-08-20-24_Virginie.txt\n",
      "Virginie\n",
      "n_trum : 1769443\n",
      "n_clinton1981473\n",
      "autres :231836\n",
      "STATE : Virginie\n",
      "CPU times: user 348 ms, sys: 76 ms, total: 424 ms\n",
      "Wall time: 17min 19s\n"
     ]
    }
   ],
   "source": [
    "%%time\n",
    "for file in list_File_col4:\n",
    "    filename = DIR + file\n",
    "    chargement(filename,DIR,\"col4\")\n",
    "    myCurso = c.POTUS.col4.aggregate([{'$group' : { '_id': { 'STATE' :'$STATE', 'CANDIDATE':'$CANDIDATE'},'total': { '$sum' : 1} }}])\n",
    "    x =[]\n",
    "    for i in myCurso:\n",
    "        x.append(i)\n",
    "    etat = file[17:-4]\n",
    "    print (etat)\n",
    "    prep_dico(etat,x)  "
   ]
  },
  {
   "cell_type": "markdown",
   "metadata": {},
   "source": [
    "## Alimentation Collection 5"
   ]
  },
  {
   "cell_type": "code",
   "execution_count": 35,
   "metadata": {
    "collapsed": false
   },
   "outputs": [
    {
     "name": "stdout",
     "output_type": "stream",
     "text": [
      "['2016-11-08-20-27_Iowa.txt', '2016-11-08-20-28_Delaware.txt', '2016-11-08-20-29_Arizona.txt', '2016-11-08-20-31_Louisiane.txt', '2016-11-08-20-31_Massachusetts.txt', '2016-11-08-20-31_Texas.txt', '2016-11-08-20-34_Dakota_du_Nord.txt']\n"
     ]
    }
   ],
   "source": [
    "list_File_col5 =list_File[25:32]\n",
    "print (list_File_col5)"
   ]
  },
  {
   "cell_type": "code",
   "execution_count": 36,
   "metadata": {
    "collapsed": false
   },
   "outputs": [
    {
     "name": "stdout",
     "output_type": "stream",
     "text": [
      "Traitement :  /home/ec2-user/POTUS/data_POTUS/2016-11-08-20-27_Iowa.txt\n",
      "Iowa\n",
      "STATE     : Iowa\n",
      "n_trum    : 800983\n",
      "n_clinton : 653669\n",
      "autres    : 111380\n",
      "Traitement :  /home/ec2-user/POTUS/data_POTUS/2016-11-08-20-28_Delaware.txt\n",
      "Delaware\n",
      "STATE     : Delaware\n",
      "n_trum    : 185127\n",
      "n_clinton : 265603\n",
      "autres    : 20860\n",
      "Traitement :  /home/ec2-user/POTUS/data_POTUS/2016-11-08-20-29_Arizona.txt\n",
      "Arizona\n",
      "STATE     : Arizona\n",
      "n_trum    : 1252401\n",
      "n_clinton : 1161167\n",
      "autres    : 247979\n",
      "Traitement :  /home/ec2-user/POTUS/data_POTUS/2016-11-08-20-31_Louisiane.txt\n",
      "Louisiane\n",
      "STATE     : Louisiane\n",
      "n_trum    : 1178638\n",
      "n_clinton : 780154\n",
      "autres    : 70240\n",
      "Traitement :  /home/ec2-user/POTUS/data_POTUS/2016-11-08-20-31_Massachusetts.txt\n",
      "Massachusetts\n",
      "STATE     : Massachusetts\n",
      "n_trum    : 1090893\n",
      "n_clinton : 1995196\n",
      "autres    : 238957\n",
      "Traitement :  /home/ec2-user/POTUS/data_POTUS/2016-11-08-20-31_Texas.txt\n",
      "Texas\n",
      "STATE     : Texas\n",
      "n_trum    : 2792589\n",
      "n_clinton : 3877868\n",
      "autres    : 0\n",
      "Traitement :  /home/ec2-user/POTUS/data_POTUS/2016-11-08-20-34_Dakota_du_Nord.txt\n",
      "Dakota_du_Nord\n",
      "STATE     : Dakota_du_Nord\n",
      "n_trum    : 0\n",
      "n_clinton : 0\n",
      "autres    : 0\n",
      "CPU times: user 784 ms, sys: 156 ms, total: 940 ms\n",
      "Wall time: 29min 16s\n"
     ]
    }
   ],
   "source": [
    "%%time\n",
    "for file in list_File_col5:\n",
    "    filename = DIR + file\n",
    "    chargement(filename,DIR,\"col5\")\n",
    "    myCurso = c.POTUS.col5.aggregate([{'$group' : { '_id': { 'STATE' :'$STATE', 'CANDIDATE':'$CANDIDATE'},'total': { '$sum' : 1} }}])\n",
    "    x =[]\n",
    "    for i in myCurso:\n",
    "        x.append(i)\n",
    "    etat = file[17:-4]\n",
    "    print (etat)\n",
    "    prep_dico(etat,x)  "
   ]
  },
  {
   "cell_type": "markdown",
   "metadata": {},
   "source": [
    "## Alimentation Collection 6"
   ]
  },
  {
   "cell_type": "code",
   "execution_count": 58,
   "metadata": {
    "collapsed": false
   },
   "outputs": [
    {
     "name": "stdout",
     "output_type": "stream",
     "text": [
      "['2016-11-08-20-35_Tennessee.txt', '2016-11-08-20-36_Wyoming.txt', '2016-11-08-20-37_Floride.txt', '2016-11-08-20-37_Illinois.txt', '2016-11-08-20-40_Nevada.txt']\n"
     ]
    }
   ],
   "source": [
    "list_File_col6 =list_File[32:38]\n",
    "print (list_File_col6)"
   ]
  },
  {
   "cell_type": "code",
   "execution_count": 59,
   "metadata": {
    "collapsed": false
   },
   "outputs": [
    {
     "name": "stdout",
     "output_type": "stream",
     "text": [
      "Traitement :  /home/ec2-user/POTUS/data_POTUS/2016-11-08-20-35_Tennessee.txt\n",
      "Traitement :  /home/ec2-user/POTUS/data_POTUS/2016-11-08-20-36_Wyoming.txt\n",
      "Traitement :  /home/ec2-user/POTUS/data_POTUS/2016-11-08-20-37_Floride.txt\n",
      "Traitement :  /home/ec2-user/POTUS/data_POTUS/2016-11-08-20-37_Illinois.txt\n",
      "Traitement :  /home/ec2-user/POTUS/data_POTUS/2016-11-08-20-40_Nevada.txt\n",
      "CPU times: user 244 ms, sys: 68 ms, total: 312 ms\n",
      "Wall time: 13min 46s\n"
     ]
    }
   ],
   "source": [
    "%%time\n",
    "for file in list_File_col6:\n",
    "    filename = DIR + file\n",
    "    chargement(filename,DIR,\"col6\")\n",
    "    myCurso = c.POTUS.col6.aggregate([{'$group' : { '_id': { 'STATE' :'$STATE', 'CANDIDATE':'$CANDIDATE'},'total': { '$sum' : 1} }}])\n",
    "    x =[]\n",
    "    for i in myCurso:\n",
    "        x.append(i)\n",
    "    etat = file[17:-4]\n",
    "    print (etat)\n",
    "    prep_dico(etat,x)  "
   ]
  },
  {
   "cell_type": "markdown",
   "metadata": {},
   "source": [
    "## Alimentation Collection 7"
   ]
  },
  {
   "cell_type": "code",
   "execution_count": null,
   "metadata": {
    "collapsed": true
   },
   "outputs": [],
   "source": [
    "list_File_col7 =list_File[38:46]\n",
    "print (list_File_col7)"
   ]
  },
  {
   "cell_type": "code",
   "execution_count": null,
   "metadata": {
    "collapsed": true
   },
   "outputs": [],
   "source": [
    "%%time\n",
    "for file in list_File_col7:\n",
    "    filename = DIR + file\n",
    "    chargement(filename,DIR,\"col7\")\n",
    "    myCurso = c.POTUS.col7.aggregate([{'$group' : { '_id': { 'STATE' :'$STATE', 'CANDIDATE':'$CANDIDATE'},'total': { '$sum' : 1} }}])\n",
    "    x =[]\n",
    "    for i in myCurso:\n",
    "        x.append(i)\n",
    "    etat = file[17:-4]\n",
    "    print (etat)\n",
    "    prep_dico(etat,x)  "
   ]
  },
  {
   "cell_type": "code",
   "execution_count": null,
   "metadata": {
    "collapsed": true
   },
   "outputs": [],
   "source": [
    "## Alimentation Collection 8"
   ]
  },
  {
   "cell_type": "code",
   "execution_count": null,
   "metadata": {
    "collapsed": true
   },
   "outputs": [],
   "source": [
    "list_File_col8 =list_File[46:51]\n",
    "print (list_File_col8)"
   ]
  },
  {
   "cell_type": "code",
   "execution_count": null,
   "metadata": {
    "collapsed": true
   },
   "outputs": [],
   "source": [
    "%%time\n",
    "for file in list_File_col8:\n",
    "    filename = DIR + file\n",
    "    chargement(filename,DIR,\"col8\")\n",
    "    myCurso = c.POTUS.col8.aggregate([{'$group' : { '_id': { 'STATE' :'$STATE', 'CANDIDATE':'$CANDIDATE'},'total': { '$sum' : 1} }}])\n",
    "    x =[]\n",
    "    for i in myCurso:\n",
    "        x.append(i)\n",
    "    etat = file[17:-4]\n",
    "    print (etat)\n",
    "    prep_dico(etat,x)  "
   ]
  },
  {
   "cell_type": "code",
   "execution_count": null,
   "metadata": {
    "collapsed": true
   },
   "outputs": [],
   "source": []
  },
  {
   "cell_type": "code",
   "execution_count": 27,
   "metadata": {
    "collapsed": false
   },
   "outputs": [
    {
     "name": "stdout",
     "output_type": "stream",
     "text": [
      "Traitement :  /home/ec2-user/POTUS/data_POTUS/2016-11-08-20-02_New_York.txt\n"
     ]
    }
   ],
   "source": [
    "#%%time\n",
    "#DIR = \"/home/ec2-user/POTUS/data_POTUS/\"\n",
    "#filename =DIR + \"2016-11-08-20-02_New_York.txt\"\n",
    "#chargement(filename,DIR)"
   ]
  },
  {
   "cell_type": "code",
   "execution_count": 28,
   "metadata": {
    "collapsed": false
   },
   "outputs": [
    {
     "name": "stdout",
     "output_type": "stream",
     "text": [
      "{'number': 7787064, '_id': 'New_York'}\n",
      "{'number': 804043, '_id': 'Nouveau_Mexique'}\n",
      "{'traitement': '/home/ec2-user/POTUS/data_POTUS/2016-11-08-20-03_Nouveau_Mexique.txt', '_id': ObjectId('587f863373ebee0d17a1e660')}\n",
      "{'traitement': '/home/ec2-user/POTUS/data_POTUS/2016-11-08-20-00_Minnesota.txt', '_id': ObjectId('587f878973ebee0e9347c59b')}\n",
      "{'traitement': '/home/ec2-user/POTUS/data_POTUS/2016-11-08-20-02_New_York.txt', '_id': ObjectId('587f884973ebee0d17a1e661')}\n",
      "CPU times: user 8 ms, sys: 0 ns, total: 8 ms\n",
      "Wall time: 14.3 s\n"
     ]
    }
   ],
   "source": [
    "%%time\n",
    "myCurso = c.POTUS.col3.aggregate([{'$group' : { '_id': '$STATE' ,'number': { '$sum' : 1} }}])\n",
    "\n",
    "for i in myCurso:\n",
    "    print(i)\n",
    "\n",
    "myCurso1 = c.POTUS.traitement.find()  \n",
    "for i in myCurso1:\n",
    "    print(i)"
   ]
  },
  {
   "cell_type": "code",
   "execution_count": 21,
   "metadata": {
    "collapsed": false,
    "scrolled": true
   },
   "outputs": [
    {
     "ename": "NameError",
     "evalue": "name 'myCurso1' is not defined",
     "output_type": "error",
     "traceback": [
      "\u001b[1;31m---------------------------------------------------------------------------\u001b[0m",
      "\u001b[1;31mNameError\u001b[0m                                 Traceback (most recent call last)",
      "\u001b[1;32m<ipython-input-21-88d25e16202b>\u001b[0m in \u001b[0;36m<module>\u001b[1;34m()\u001b[0m\n\u001b[1;32m----> 1\u001b[1;33m \u001b[1;32mfor\u001b[0m \u001b[0mi\u001b[0m \u001b[1;32min\u001b[0m \u001b[0mmyCurso1\u001b[0m\u001b[1;33m:\u001b[0m\u001b[1;33m\u001b[0m\u001b[0m\n\u001b[0m\u001b[0;32m      2\u001b[0m     \u001b[0mprint\u001b[0m\u001b[1;33m(\u001b[0m\u001b[0mi\u001b[0m\u001b[1;33m)\u001b[0m\u001b[1;33m\u001b[0m\u001b[0m\n",
      "\u001b[1;31mNameError\u001b[0m: name 'myCurso1' is not defined"
     ]
    }
   ],
   "source": [
    "\n"
   ]
  },
  {
   "cell_type": "code",
   "execution_count": 12,
   "metadata": {
    "collapsed": true
   },
   "outputs": [],
   "source": [
    "list_File = [\n",
    "'2016-11-08-20-00_Minnesota.txt'\n",
    ",'2016-11-08-20-01_Alabama.txt'\n",
    ",'2016-11-08-20-01_Montana.txt'\n",
    ",'2016-11-08-20-01_Utah.txt'\n",
    ",'2016-11-08-20-02_Caroline_du_Sud.txt'\n",
    ",'2016-11-08-20-02_New_York.txt'\n",
    ",'2016-11-08-20-03_Nouveau_Mexique.txt'\n",
    ",'2016-11-08-20-04_Californie.txt'\n",
    ",'2016-11-08-20-04_Colorado.txt'\n",
    ",'2016-11-08-20-05_Connecticut.txt'\n",
    ",'2016-11-08-20-08_District_de_Columbia.txt'\n",
    ",'2016-11-08-20-08_Kentucky.txt'\n",
    ",'2016-11-08-20-09_Caroline_du_Nord.txt'\n",
    ",'2016-11-08-20-09_Vermont.txt'\n",
    ",'2016-11-08-20-10_Dakota_du_Sud.txt'\n",
    ",'2016-11-08-20-11_Alaska.txt'\n",
    ",'2016-11-08-20-13_Arkansas.txt'\n",
    ",'2016-11-08-20-13_Washington.txt'\n",
    ",'2016-11-08-20-15_Hawai.txt'\n",
    ",'2016-11-08-20-17_Wisconsin.txt'\n",
    ",'2016-11-08-20-19_Georgie.txt'\n",
    ",'2016-11-08-20-22_Ohio.txt'\n",
    ",'2016-11-08-20-24_Missouri.txt'\n",
    ",'2016-11-08-20-24_New_Hampshire.txt'\n",
    ",'2016-11-08-20-24_Virginie.txt'\n",
    ",'2016-11-08-20-27_Iowa.txt'\n",
    ",'2016-11-08-20-28_Delaware.txt'\n",
    ",'2016-11-08-20-29_Arizona.txt'\n",
    ",'2016-11-08-20-31_Louisiane.txt'\n",
    ",'2016-11-08-20-31_Massachusetts.txt'\n",
    ",'2016-11-08-20-31_Texas.txt'\n",
    ",'2016-11-08-20-34_Dakota_du_Nord.txt'\n",
    ",'2016-11-08-20-35_Tennessee.txt'\n",
    ",'2016-11-08-20-36_Wyoming.txt'\n",
    ",'2016-11-08-20-37_Floride.txt'\n",
    ",'2016-11-08-20-37_Illinois.txt'\n",
    ",'2016-11-08-20-40_Nevada.txt'\n",
    ",'2016-11-08-20-41_Idaho.txt'\n",
    ",'2016-11-08-20-41_Pennsylvanie.txt'\n",
    ",'2016-11-08-20-43_Virginie_Occidentale.txt'\n",
    ",'2016-11-08-20-48_Maryland.txt'\n",
    ",'2016-11-08-20-48_Mississippi.txt'\n",
    ",'2016-11-08-20-48_Rhode_Island.txt'\n",
    ",'2016-11-08-20-50_Michigan.txt'\n",
    ",'2016-11-08-20-51_Oklahoma.txt'\n",
    ",'2016-11-08-20-52_Nebraska.txt'\n",
    ",'2016-11-08-20-56_New_Jersey.txt'\n",
    ",'2016-11-08-20-57_Indiana.txt'\n",
    ",'2016-11-08-20-57_Kansas.txt'\n",
    ",'2016-11-08-20-58_Maine.txt'\n",
    ",'2016-11-08-20-59_Oregon.txt']"
   ]
  },
  {
   "cell_type": "code",
   "execution_count": 29,
   "metadata": {
    "collapsed": true
   },
   "outputs": [],
   "source": [
    "list_File_col1 =['2016-11-08-20-00_Minnesota.txt'\n",
    ",'2016-11-08-20-01_Alabama.txt'\n",
    ",'2016-11-08-20-01_Montana.txt'\n",
    ",'2016-11-08-20-01_Utah.txt'\n",
    ",'2016-11-08-20-02_Caroline_du_Sud.txt'\n",
    ",'2016-11-08-20-02_New_York.txt'\n",
    ",'2016-11-08-20-03_Nouveau_Mexique.txt']\n"
   ]
  },
  {
   "cell_type": "code",
   "execution_count": 14,
   "metadata": {
    "collapsed": false
   },
   "outputs": [
    {
     "name": "stdout",
     "output_type": "stream",
     "text": [
      "Traitement :  2016-11-08-20-00_Minnesota.txt\n",
      "Traitement :  2016-11-08-20-01_Alabama.txt\n",
      "Traitement :  2016-11-08-20-01_Montana.txt\n",
      "Traitement :  2016-11-08-20-01_Utah.txt\n",
      "Traitement :  2016-11-08-20-02_Caroline_du_Sud.txt\n",
      "Traitement :  2016-11-08-20-02_New_York.txt\n",
      "Traitement :  2016-11-08-20-03_Nouveau_Mexique.txt\n",
      "Traitement :  2016-11-08-20-04_Californie.txt\n",
      "Traitement :  2016-11-08-20-04_Colorado.txt\n",
      "Traitement :  2016-11-08-20-05_Connecticut.txt\n",
      "Traitement :  2016-11-08-20-08_District_de_Columbia.txt\n",
      "Traitement :  2016-11-08-20-08_Kentucky.txt\n",
      "Traitement :  2016-11-08-20-09_Caroline_du_Nord.txt\n",
      "Traitement :  2016-11-08-20-09_Vermont.txt\n",
      "Traitement :  2016-11-08-20-10_Dakota_du_Sud.txt\n",
      "Traitement :  2016-11-08-20-11_Alaska.txt\n",
      "Traitement :  2016-11-08-20-13_Arkansas.txt\n",
      "Traitement :  2016-11-08-20-13_Washington.txt\n",
      "Traitement :  2016-11-08-20-15_Hawai.txt\n",
      "Traitement :  2016-11-08-20-17_Wisconsin.txt\n",
      "Traitement :  2016-11-08-20-19_Georgie.txt\n",
      "Traitement :  2016-11-08-20-22_Ohio.txt\n",
      "Traitement :  2016-11-08-20-24_Missouri.txt\n",
      "Traitement :  2016-11-08-20-24_New_Hampshire.txt\n",
      "Traitement :  2016-11-08-20-24_Virginie.txt\n",
      "Traitement :  2016-11-08-20-27_Iowa.txt\n",
      "Traitement :  2016-11-08-20-28_Delaware.txt\n",
      "Traitement :  2016-11-08-20-29_Arizona.txt\n",
      "Traitement :  2016-11-08-20-31_Louisiane.txt\n",
      "Traitement :  2016-11-08-20-31_Massachusetts.txt\n",
      "Traitement :  2016-11-08-20-31_Texas.txt\n",
      "Traitement :  2016-11-08-20-34_Dakota_du_Nord.txt\n",
      "Traitement :  2016-11-08-20-35_Tennessee.txt\n",
      "Traitement :  2016-11-08-20-36_Wyoming.txt\n",
      "Traitement :  2016-11-08-20-37_Floride.txt\n",
      "Traitement :  2016-11-08-20-37_Illinois.txt\n",
      "Traitement :  2016-11-08-20-40_Nevada.txt\n",
      "Traitement :  2016-11-08-20-41_Idaho.txt\n",
      "Traitement :  2016-11-08-20-41_Pennsylvanie.txt\n",
      "Traitement :  2016-11-08-20-43_Virginie_Occidentale.txt\n",
      "Traitement :  2016-11-08-20-48_Maryland.txt\n",
      "Traitement :  2016-11-08-20-48_Mississippi.txt\n",
      "Traitement :  2016-11-08-20-48_Rhode_Island.txt\n",
      "Traitement :  2016-11-08-20-50_Michigan.txt\n",
      "Traitement :  2016-11-08-20-51_Oklahoma.txt\n",
      "Traitement :  2016-11-08-20-52_Nebraska.txt\n",
      "Traitement :  2016-11-08-20-56_New_Jersey.txt\n",
      "Traitement :  2016-11-08-20-57_Indiana.txt\n",
      "Traitement :  2016-11-08-20-57_Kansas.txt\n",
      "Traitement :  2016-11-08-20-58_Maine.txt\n",
      "Traitement :  2016-11-08-20-59_Oregon.txt\n"
     ]
    }
   ],
   "source": [
    "for file_name in list_File_col1 :\n",
    "    chargement(file_name)"
   ]
  },
  {
   "cell_type": "code",
   "execution_count": 2,
   "metadata": {
    "collapsed": false
   },
   "outputs": [
    {
     "data": {
      "text/plain": [
       "['2016-11-08-20-00_Minnesota.txt',\n",
       " '2016-11-08-20-01_Alabama.txt',\n",
       " '2016-11-08-20-01_Montana.txt',\n",
       " '2016-11-08-20-01_Utah.txt',\n",
       " '2016-11-08-20-02_Caroline_du_Sud.txt',\n",
       " '2016-11-08-20-02_New_York.txt',\n",
       " '2016-11-08-20-03_Nouveau_Mexique.txt',\n",
       " '2016-11-08-20-04_Californie.txt',\n",
       " '2016-11-08-20-04_Colorado.txt',\n",
       " '2016-11-08-20-05_Connecticut.txt',\n",
       " '2016-11-08-20-08_District_de_Columbia.txt',\n",
       " '2016-11-08-20-08_Kentucky.txt',\n",
       " '2016-11-08-20-09_Caroline_du_Nord.txt',\n",
       " '2016-11-08-20-09_Vermont.txt',\n",
       " '2016-11-08-20-10_Dakota_du_Sud.txt',\n",
       " '2016-11-08-20-11_Alaska.txt',\n",
       " '2016-11-08-20-13_Arkansas.txt',\n",
       " '2016-11-08-20-13_Washington.txt',\n",
       " '2016-11-08-20-15_Hawai.txt',\n",
       " '2016-11-08-20-17_Wisconsin.txt',\n",
       " '2016-11-08-20-19_Georgie.txt',\n",
       " '2016-11-08-20-22_Ohio.txt',\n",
       " '2016-11-08-20-24_Missouri.txt',\n",
       " '2016-11-08-20-24_New_Hampshire.txt',\n",
       " '2016-11-08-20-24_Virginie.txt',\n",
       " '2016-11-08-20-27_Iowa.txt',\n",
       " '2016-11-08-20-28_Delaware.txt',\n",
       " '2016-11-08-20-29_Arizona.txt',\n",
       " '2016-11-08-20-31_Louisiane.txt',\n",
       " '2016-11-08-20-31_Massachusetts.txt',\n",
       " '2016-11-08-20-31_Texas.txt',\n",
       " '2016-11-08-20-34_Dakota_du_Nord.txt',\n",
       " '2016-11-08-20-35_Tennessee.txt',\n",
       " '2016-11-08-20-36_Wyoming.txt',\n",
       " '2016-11-08-20-37_Floride.txt',\n",
       " '2016-11-08-20-37_Illinois.txt',\n",
       " '2016-11-08-20-40_Nevada.txt',\n",
       " '2016-11-08-20-41_Idaho.txt',\n",
       " '2016-11-08-20-41_Pennsylvanie.txt',\n",
       " '2016-11-08-20-43_Virginie_Occidentale.txt',\n",
       " '2016-11-08-20-48_Maryland.txt',\n",
       " '2016-11-08-20-48_Mississippi.txt',\n",
       " '2016-11-08-20-48_Rhode_Island.txt',\n",
       " '2016-11-08-20-50_Michigan.txt',\n",
       " '2016-11-08-20-51_Oklahoma.txt',\n",
       " '2016-11-08-20-52_Nebraska.txt',\n",
       " '2016-11-08-20-56_New_Jersey.txt',\n",
       " '2016-11-08-20-57_Indiana.txt',\n",
       " '2016-11-08-20-57_Kansas.txt',\n",
       " '2016-11-08-20-58_Maine.txt',\n",
       " '2016-11-08-20-59_Oregon.txt']"
      ]
     },
     "execution_count": 2,
     "metadata": {},
     "output_type": "execute_result"
    }
   ],
   "source": [
    "list_File"
   ]
  },
  {
   "cell_type": "code",
   "execution_count": 31,
   "metadata": {
    "collapsed": false
   },
   "outputs": [
    {
     "name": "stdout",
     "output_type": "stream",
     "text": [
      "{'_id': 'Californie', 'number': 14610499}\n",
      "{'_id': 'Minnesota', 'number': 2944813}\n",
      "CPU times: user 12 ms, sys: 0 ns, total: 12 ms\n",
      "Wall time: 34.6 s\n"
     ]
    }
   ],
   "source": [
    "%%time\n",
    "#c.POTUS.election.find({\"STATE\": \"Minnesota\"}).cou\n",
    "#c.POTUS.election.group({})\n",
    "#c.POTUS.election.aggregate([{$group : { _id: STATE :{$STATE:\"$STATE\"} } }])\n",
    "\n",
    "\n",
    "myCurso = c.POTUS.election.aggregate([{'$group' : { '_id': '$STATE' ,'number': { '$sum' : 1} }}])\n",
    "\n",
    "for i in myCurso:\n",
    "    print(i)\n"
   ]
  },
  {
   "cell_type": "code",
   "execution_count": 53,
   "metadata": {
    "collapsed": false
   },
   "outputs": [
    {
     "name": "stdout",
     "output_type": "stream",
     "text": [
      "CPU times: user 12 ms, sys: 0 ns, total: 12 ms\n",
      "Wall time: 34.2 s\n"
     ]
    }
   ],
   "source": [
    "%%time\n",
    "myCurso = c.POTUS.election.aggregate([{'$group' : { '_id': { 'STATE' :'$STATE', 'CANDIDATE':'$CANDIDATE'},'total': { '$sum' : 1} }}])\n"
   ]
  },
  {
   "cell_type": "code",
   "execution_count": null,
   "metadata": {
    "collapsed": true
   },
   "outputs": [],
   "source": []
  },
  {
   "cell_type": "code",
   "execution_count": 54,
   "metadata": {
    "collapsed": false
   },
   "outputs": [
    {
     "name": "stdout",
     "output_type": "stream",
     "text": [
      "{'_id': {'CANDIDATE': 'Blanc', 'STATE': 'Californie'}, 'total': 428915}\n",
      "{'_id': {'CANDIDATE': 'McMullin', 'STATE': 'Californie'}, 'total': 39586}\n",
      "{'_id': {'CANDIDATE': 'Johnson', 'STATE': 'Californie'}, 'total': 478499}\n",
      "{'_id': {'CANDIDATE': 'Stein', 'STATE': 'Californie'}, 'total': 278657}\n",
      "{'_id': {'CANDIDATE': 'Clinton', 'STATE': 'Californie'}, 'total': 8753788}\n",
      "{'_id': {'CANDIDATE': 'Castle', 'STATE': 'Minnesota'}, 'total': 9456}\n",
      "{'_id': {'CANDIDATE': 'Autre', 'STATE': 'Minnesota'}, 'total': 41657}\n",
      "{'_id': {'CANDIDATE': 'Clinton', 'STATE': 'Minnesota'}, 'total': 1367716}\n",
      "{'_id': {'CANDIDATE': 'Stein', 'STATE': 'Minnesota'}, 'total': 36985}\n",
      "{'_id': {'CANDIDATE': 'Autre', 'STATE': 'Californie'}, 'total': 147244}\n",
      "{'_id': {'CANDIDATE': 'McMullin', 'STATE': 'Minnesota'}, 'total': 53076}\n",
      "{'_id': {'CANDIDATE': 'Trump', 'STATE': 'Californie'}, 'total': 4483810}\n",
      "{'_id': {'CANDIDATE': 'Johnson', 'STATE': 'Minnesota'}, 'total': 112972}\n",
      "{'_id': {'CANDIDATE': 'Trump', 'STATE': 'Minnesota'}, 'total': 1322951}\n"
     ]
    }
   ],
   "source": [
    "x =[]\n",
    "for i in myCurso:\n",
    "    x.append(i)\n",
    "    print(i)"
   ]
  },
  {
   "cell_type": "code",
   "execution_count": 95,
   "metadata": {
    "collapsed": false
   },
   "outputs": [
    {
     "name": "stdout",
     "output_type": "stream",
     "text": [
      "         STATE CANDIDATE    ToTaL\n",
      "0   Californie     Blanc   428915\n",
      "1   Californie  McMullin    39586\n",
      "2   Californie   Johnson   478499\n",
      "3   Californie     Stein   278657\n",
      "4   Californie   Clinton  8753788\n",
      "5    Minnesota    Castle     9456\n",
      "6    Minnesota     Autre    41657\n",
      "7    Minnesota   Clinton  1367716\n",
      "8    Minnesota     Stein    36985\n",
      "9   Californie     Autre   147244\n",
      "10   Minnesota  McMullin    53076\n",
      "11  Californie     Trump  4483810\n",
      "12   Minnesota   Johnson   112972\n",
      "13   Minnesota     Trump  1322951\n"
     ]
    }
   ],
   "source": [
    "#result = pd.DataFrame(list(myCurso)\n",
    "\n",
    "dic_election_list =[]\n",
    "for elt in x :\n",
    "    f = elt['total']\n",
    "    e  = elt['_id']\n",
    "    li = [e['STATE'],e['CANDIDATE'],f]\n",
    "    dic_election_list.append(li)\n",
    "\n",
    "df =pd.DataFrame(dic_election_list, columns=[\"STATE\", \"CANDIDATE\", \"ToTaL\"])\n",
    "\n",
    "print(df)"
   ]
  },
  {
   "cell_type": "code",
   "execution_count": 63,
   "metadata": {
    "collapsed": false
   },
   "outputs": [
    {
     "name": "stdout",
     "output_type": "stream",
     "text": [
      "n_trum : 1322951\n",
      "n_clinton1367716\n",
      "autres :254146\n",
      "STATE : Minnesota\n",
      "CPU times: user 12 ms, sys: 0 ns, total: 12 ms\n",
      "Wall time: 33.9 s\n"
     ]
    }
   ],
   "source": [
    "%%time\n",
    "etat = 'Minnesota'\n",
    "myCurso = c.POTUS.col1.aggregate([{'$group' : { '_id': { 'STATE' :'$STATE', 'CANDIDATE':'$CANDIDATE'},'total': { '$sum' : 1} }}])\n",
    "x =[]\n",
    "for i in myCurso:\n",
    "    x.append(i)\n",
    "\n",
    "\n",
    "def prep_dico(nom_etat,x):\n",
    "\n",
    "    #dic_election_list =[]\n",
    "    n_autres = 0\n",
    "    n_trump_vote = 0\n",
    "    n_clinton_vote = 0\n",
    "    for elt in x :\n",
    "        \n",
    "        f = elt['total']\n",
    "        e  = elt['_id']\n",
    "        if (e['STATE'] == nom_etat) :\n",
    "            if (e['CANDIDATE'] == 'Trump') : \n",
    "                n_trump_vote = f\n",
    "            else : \n",
    "                if e['CANDIDATE'] == 'Clinton' :\n",
    "                    n_clinton_vote = f\n",
    "                else : \n",
    "                    n_autres += f\n",
    "    print('n_trum : ' + str(n_trump_vote))\n",
    "    print('n_clinton' + str(n_clinton_vote))    \n",
    "    print('autres :' + str(n_autres))\n",
    "    print('STATE : ' + str(nom_etat))\n",
    "    \n",
    "    #    li = [e['STATE'],e['CANDIDATE'],f]\n",
    "    #    dic_election_list.append(li)\n",
    "\n",
    "    #df =pd.DataFrame(dic_election_list, columns=[\"STATE\", \"CANDIDATE\", \"ToTaL\"])\n",
    "    c.POTUS.synthese.insert_one(\n",
    "    {\n",
    "     \"state\": nom_etat,\n",
    "     \"Clinton\": n_clinton_vote,\n",
    "     \"Trump\" : n_trump_vote,\n",
    "     \"Other\" : n_autres   })\n",
    "prep_dico(etat,x)"
   ]
  },
  {
   "cell_type": "code",
   "execution_count": 93,
   "metadata": {
    "collapsed": false
   },
   "outputs": [
    {
     "data": {
      "text/html": [
       "<div>\n",
       "<table border=\"1\" class=\"dataframe\">\n",
       "  <thead>\n",
       "    <tr style=\"text-align: right;\">\n",
       "      <th></th>\n",
       "      <th>STATE</th>\n",
       "      <th>CANDIDATE</th>\n",
       "      <th>ToTaL</th>\n",
       "    </tr>\n",
       "  </thead>\n",
       "  <tbody>\n",
       "    <tr>\n",
       "      <th>0</th>\n",
       "      <td>Californie</td>\n",
       "      <td>Blanc</td>\n",
       "      <td>428915</td>\n",
       "    </tr>\n",
       "    <tr>\n",
       "      <th>1</th>\n",
       "      <td>Californie</td>\n",
       "      <td>McMullin</td>\n",
       "      <td>39586</td>\n",
       "    </tr>\n",
       "    <tr>\n",
       "      <th>2</th>\n",
       "      <td>Californie</td>\n",
       "      <td>Johnson</td>\n",
       "      <td>478499</td>\n",
       "    </tr>\n",
       "    <tr>\n",
       "      <th>3</th>\n",
       "      <td>Californie</td>\n",
       "      <td>Stein</td>\n",
       "      <td>278657</td>\n",
       "    </tr>\n",
       "    <tr>\n",
       "      <th>4</th>\n",
       "      <td>Californie</td>\n",
       "      <td>Clinton</td>\n",
       "      <td>8753788</td>\n",
       "    </tr>\n",
       "    <tr>\n",
       "      <th>5</th>\n",
       "      <td>Minnesota</td>\n",
       "      <td>Castle</td>\n",
       "      <td>9456</td>\n",
       "    </tr>\n",
       "    <tr>\n",
       "      <th>6</th>\n",
       "      <td>Minnesota</td>\n",
       "      <td>Autre</td>\n",
       "      <td>41657</td>\n",
       "    </tr>\n",
       "    <tr>\n",
       "      <th>7</th>\n",
       "      <td>Minnesota</td>\n",
       "      <td>Clinton</td>\n",
       "      <td>1367716</td>\n",
       "    </tr>\n",
       "    <tr>\n",
       "      <th>8</th>\n",
       "      <td>Minnesota</td>\n",
       "      <td>Stein</td>\n",
       "      <td>36985</td>\n",
       "    </tr>\n",
       "    <tr>\n",
       "      <th>9</th>\n",
       "      <td>Californie</td>\n",
       "      <td>Autre</td>\n",
       "      <td>147244</td>\n",
       "    </tr>\n",
       "    <tr>\n",
       "      <th>10</th>\n",
       "      <td>Minnesota</td>\n",
       "      <td>McMullin</td>\n",
       "      <td>53076</td>\n",
       "    </tr>\n",
       "    <tr>\n",
       "      <th>11</th>\n",
       "      <td>Californie</td>\n",
       "      <td>Trump</td>\n",
       "      <td>4483810</td>\n",
       "    </tr>\n",
       "    <tr>\n",
       "      <th>12</th>\n",
       "      <td>Minnesota</td>\n",
       "      <td>Johnson</td>\n",
       "      <td>112972</td>\n",
       "    </tr>\n",
       "    <tr>\n",
       "      <th>13</th>\n",
       "      <td>Minnesota</td>\n",
       "      <td>Trump</td>\n",
       "      <td>1322951</td>\n",
       "    </tr>\n",
       "  </tbody>\n",
       "</table>\n",
       "</div>"
      ],
      "text/plain": [
       "         STATE CANDIDATE    ToTaL\n",
       "0   Californie     Blanc   428915\n",
       "1   Californie  McMullin    39586\n",
       "2   Californie   Johnson   478499\n",
       "3   Californie     Stein   278657\n",
       "4   Californie   Clinton  8753788\n",
       "5    Minnesota    Castle     9456\n",
       "6    Minnesota     Autre    41657\n",
       "7    Minnesota   Clinton  1367716\n",
       "8    Minnesota     Stein    36985\n",
       "9   Californie     Autre   147244\n",
       "10   Minnesota  McMullin    53076\n",
       "11  Californie     Trump  4483810\n",
       "12   Minnesota   Johnson   112972\n",
       "13   Minnesota     Trump  1322951"
      ]
     },
     "execution_count": 93,
     "metadata": {},
     "output_type": "execute_result"
    }
   ],
   "source": [
    "#result.describe()\n"
   ]
  },
  {
   "cell_type": "code",
   "execution_count": 77,
   "metadata": {
    "collapsed": true
   },
   "outputs": [],
   "source": [
    "COL = [\"Time\", \"State\", \"Candidate\"]"
   ]
  },
  {
   "cell_type": "code",
   "execution_count": 19,
   "metadata": {
    "collapsed": false
   },
   "outputs": [],
   "source": [
    "df_Minnesota = pd.read_csv(\"data_POTUS/2016-11-08-20-00_Minnesota.txt\", sep=\";\", header = None, names = COL)"
   ]
  },
  {
   "cell_type": "code",
   "execution_count": 33,
   "metadata": {
    "collapsed": false
   },
   "outputs": [
    {
     "data": {
      "text/plain": [
       "Clinton     1367716\n",
       "Trump       1322951\n",
       "Johnson      112972\n",
       "McMullin      53076\n",
       "Autre         41657\n",
       "Stein         36985\n",
       "Castle         9456\n",
       "Name: Candidate, dtype: int64"
      ]
     },
     "execution_count": 33,
     "metadata": {},
     "output_type": "execute_result"
    }
   ],
   "source": [
    "df_Minnesota[\"Candidate\"].value_counts()"
   ]
  },
  {
   "cell_type": "code",
   "execution_count": 25,
   "metadata": {
    "collapsed": false
   },
   "outputs": [
    {
     "data": {
      "text/html": [
       "<div>\n",
       "<table border=\"1\" class=\"dataframe\">\n",
       "  <thead>\n",
       "    <tr style=\"text-align: right;\">\n",
       "      <th></th>\n",
       "      <th>Time</th>\n",
       "      <th>State</th>\n",
       "      <th>Candidate</th>\n",
       "    </tr>\n",
       "  </thead>\n",
       "  <tbody>\n",
       "    <tr>\n",
       "      <th>2944808</th>\n",
       "      <td>2016-11-08T20:00</td>\n",
       "      <td>Minnesota</td>\n",
       "      <td>Autre</td>\n",
       "    </tr>\n",
       "    <tr>\n",
       "      <th>2944809</th>\n",
       "      <td>2016-11-08T20:00</td>\n",
       "      <td>Minnesota</td>\n",
       "      <td>Autre</td>\n",
       "    </tr>\n",
       "    <tr>\n",
       "      <th>2944810</th>\n",
       "      <td>2016-11-08T20:00</td>\n",
       "      <td>Minnesota</td>\n",
       "      <td>Autre</td>\n",
       "    </tr>\n",
       "    <tr>\n",
       "      <th>2944811</th>\n",
       "      <td>2016-11-08T20:00</td>\n",
       "      <td>Minnesota</td>\n",
       "      <td>Autre</td>\n",
       "    </tr>\n",
       "    <tr>\n",
       "      <th>2944812</th>\n",
       "      <td>2016-11-08T20:00</td>\n",
       "      <td>Minnesota</td>\n",
       "      <td>Autre</td>\n",
       "    </tr>\n",
       "  </tbody>\n",
       "</table>\n",
       "</div>"
      ],
      "text/plain": [
       "                     Time      State Candidate\n",
       "2944808  2016-11-08T20:00  Minnesota     Autre\n",
       "2944809  2016-11-08T20:00  Minnesota     Autre\n",
       "2944810  2016-11-08T20:00  Minnesota     Autre\n",
       "2944811  2016-11-08T20:00  Minnesota     Autre\n",
       "2944812  2016-11-08T20:00  Minnesota     Autre"
      ]
     },
     "execution_count": 25,
     "metadata": {},
     "output_type": "execute_result"
    }
   ],
   "source": [
    "df_Minnesota.tail()"
   ]
  },
  {
   "cell_type": "code",
   "execution_count": 46,
   "metadata": {
    "collapsed": true
   },
   "outputs": [],
   "source": [
    "db = c[\"dontexist\"]\n",
    "cn = db[\"mycollection\"]"
   ]
  },
  {
   "cell_type": "code",
   "execution_count": 56,
   "metadata": {
    "collapsed": false
   },
   "outputs": [
    {
     "name": "stdout",
     "output_type": "stream",
     "text": [
      "--- 3.296091079711914 seconds ---\n"
     ]
    }
   ],
   "source": [
    "start_time = time.time()\n",
    "many = df[2844809:2944809].to_dict(orient='records')\n",
    "cn.insert_many(many)\n",
    "print(\"--- %s seconds ---\" % (time.time() - start_time))"
   ]
  },
  {
   "cell_type": "code",
   "execution_count": 81,
   "metadata": {
    "collapsed": false
   },
   "outputs": [
    {
     "data": {
      "text/plain": [
       "100000"
      ]
     },
     "execution_count": 81,
     "metadata": {},
     "output_type": "execute_result"
    }
   ],
   "source": [
    "len(many)"
   ]
  },
  {
   "cell_type": "code",
   "execution_count": 61,
   "metadata": {
    "collapsed": false
   },
   "outputs": [
    {
     "data": {
      "text/plain": [
       "MongoClient(host=['172.31.31.101:27017', '172.31.31.100:27017', '172.31.31.102:27017'], document_class=dict, tz_aware=False, connect=True, replicaset='replica-set')"
      ]
     },
     "execution_count": 61,
     "metadata": {},
     "output_type": "execute_result"
    }
   ],
   "source": [
    "c"
   ]
  },
  {
   "cell_type": "code",
   "execution_count": 49,
   "metadata": {
    "collapsed": false
   },
   "outputs": [
    {
     "data": {
      "text/plain": [
       "1500026"
      ]
     },
     "execution_count": 49,
     "metadata": {},
     "output_type": "execute_result"
    }
   ],
   "source": [
    "cn.count()"
   ]
  },
  {
   "cell_type": "code",
   "execution_count": 57,
   "metadata": {
    "collapsed": false
   },
   "outputs": [
    {
     "data": {
      "text/plain": [
       "41653"
      ]
     },
     "execution_count": 57,
     "metadata": {},
     "output_type": "execute_result"
    }
   ],
   "source": [
    "cn.find({\"Candidate\": \"Autre\"}).count()"
   ]
  },
  {
   "cell_type": "code",
   "execution_count": 89,
   "metadata": {
    "collapsed": false
   },
   "outputs": [
    {
     "data": {
      "text/plain": [
       "2944813"
      ]
     },
     "execution_count": 89,
     "metadata": {},
     "output_type": "execute_result"
    }
   ],
   "source": [
    "len(df)"
   ]
  },
  {
   "cell_type": "code",
   "execution_count": 45,
   "metadata": {
    "collapsed": false
   },
   "outputs": [
    {
     "data": {
      "text/plain": [
       "['mycollection', 'system.indexes']"
      ]
     },
     "execution_count": 45,
     "metadata": {},
     "output_type": "execute_result"
    }
   ],
   "source": [
    "c.dontexist.collection_names()"
   ]
  },
  {
   "cell_type": "code",
   "execution_count": 49,
   "metadata": {
    "collapsed": false
   },
   "outputs": [],
   "source": [
    "db = c[\"dontexist\"]"
   ]
  },
  {
   "cell_type": "code",
   "execution_count": 50,
   "metadata": {
    "collapsed": false
   },
   "outputs": [
    {
     "data": {
      "text/plain": [
       "['mycollection', 'system.indexes']"
      ]
     },
     "execution_count": 50,
     "metadata": {},
     "output_type": "execute_result"
    }
   ],
   "source": [
    "db.collection_names()\n"
   ]
  },
  {
   "cell_type": "code",
   "execution_count": 54,
   "metadata": {
    "collapsed": true
   },
   "outputs": [],
   "source": [
    "cn = db[\"mycollection\"]"
   ]
  },
  {
   "cell_type": "code",
   "execution_count": 67,
   "metadata": {
    "collapsed": false
   },
   "outputs": [
    {
     "name": "stdout",
     "output_type": "stream",
     "text": [
      "{'item': 'box', '_id': ObjectId('58769be76ee75c8173207f03'), 'qty': 20.0}\n"
     ]
    }
   ],
   "source": [
    "print(collection.find_one())"
   ]
  },
  {
   "cell_type": "code",
   "execution_count": 64,
   "metadata": {
    "collapsed": false
   },
   "outputs": [
    {
     "data": {
      "text/plain": [
       "<pymongo.results.InsertOneResult at 0x7fc316c69fc0>"
      ]
     },
     "execution_count": 64,
     "metadata": {},
     "output_type": "execute_result"
    }
   ],
   "source": [
    "cn.insert_one(\n",
    "    {\"Time\":\"2016-11-08T20:00\",\n",
    "     \"State\":\"Minnesota\",\n",
    "     \"Candidate\":\"Clinton\"})"
   ]
  },
  {
   "cell_type": "code",
   "execution_count": 80,
   "metadata": {
    "collapsed": false
   },
   "outputs": [
    {
     "data": {
      "text/plain": [
       "<pymongo.results.InsertManyResult at 0x7fc316c5b7e0>"
      ]
     },
     "execution_count": 80,
     "metadata": {},
     "output_type": "execute_result"
    }
   ],
   "source": [
    "cn.insert_many(\n",
    "    [{\"Time\":\"2016-11-08T20:00\",\n",
    "      \"State\":\"Minnesota\",\"Candidate\":\"Clinton\"},\n",
    "     {\"Time\":\"2016-11-08T20:00\",\n",
    "      \"State\":\"Minnesota\",\"Candidate\":\"Clinton\"}])"
   ]
  },
  {
   "cell_type": "code",
   "execution_count": 88,
   "metadata": {
    "collapsed": false
   },
   "outputs": [
    {
     "data": {
      "text/plain": [
       "<pymongo.results.InsertManyResult at 0x7fc316c69ee8>"
      ]
     },
     "execution_count": 88,
     "metadata": {},
     "output_type": "execute_result"
    }
   ],
   "source": [
    "cn.insert_many(many)"
   ]
  },
  {
   "cell_type": "code",
   "execution_count": 62,
   "metadata": {
    "collapsed": false
   },
   "outputs": [
    {
     "data": {
      "text/plain": [
       "'[{\"Time\":\"2016-11-08T20:00\",\"State\":\"Minnesota\",\"Candidate\":\"Clinton\"}]'"
      ]
     },
     "execution_count": 62,
     "metadata": {},
     "output_type": "execute_result"
    }
   ],
   "source": [
    "one"
   ]
  },
  {
   "cell_type": "code",
   "execution_count": 85,
   "metadata": {
    "collapsed": false
   },
   "outputs": [
    {
     "data": {
      "text/plain": [
       "'[{\"Time\":\"2016-11-08T20:00\",\"State\":\"Minnesota\",\"Candidate\":\"Clinton\"},{\"Time\":\"2016-11-08T20:00\",\"State\":\"Minnesota\",\"Candidate\":\"Clinton\"},{\"Time\":\"2016-11-08T20:00\",\"State\":\"Minnesota\",\"Candidate\":\"Clinton\"},{\"Time\":\"2016-11-08T20:00\",\"State\":\"Minnesota\",\"Candidate\":\"Clinton\"},{\"Time\":\"2016-11-08T20:00\",\"State\":\"Minnesota\",\"Candidate\":\"Clinton\"},{\"Time\":\"2016-11-08T20:00\",\"State\":\"Minnesota\",\"Candidate\":\"Clinton\"},{\"Time\":\"2016-11-08T20:00\",\"State\":\"Minnesota\",\"Candidate\":\"Clinton\"},{\"Time\":\"2016-11-08T20:00\",\"State\":\"Minnesota\",\"Candidate\":\"Clinton\"},{\"Time\":\"2016-11-08T20:00\",\"State\":\"Minnesota\",\"Candidate\":\"Clinton\"},{\"Time\":\"2016-11-08T20:00\",\"State\":\"Minnesota\",\"Candidate\":\"Clinton\"},{\"Time\":\"2016-11-08T20:00\",\"State\":\"Minnesota\",\"Candidate\":\"Clinton\"},{\"Time\":\"2016-11-08T20:00\",\"State\":\"Minnesota\",\"Candidate\":\"Clinton\"},{\"Time\":\"2016-11-08T20:00\",\"State\":\"Minnesota\",\"Candidate\":\"Clinton\"},{\"Time\":\"2016-11-08T20:00\",\"State\":\"Minnesota\",\"Candidate\":\"Clinton\"},{\"Time\":\"2016-11-08T20:00\",\"State\":\"Minnesota\",\"Candidate\":\"Clinton\"},{\"Time\":\"2016-11-08T20:00\",\"State\":\"Minnesota\",\"Candidate\":\"Clinton\"},{\"Time\":\"2016-11-08T20:00\",\"State\":\"Minnesota\",\"Candidate\":\"Clinton\"},{\"Time\":\"2016-11-08T20:00\",\"State\":\"Minnesota\",\"Candidate\":\"Clinton\"},{\"Time\":\"2016-11-08T20:00\",\"State\":\"Minnesota\",\"Candidate\":\"Clinton\"},{\"Time\":\"2016-11-08T20:00\",\"State\":\"Minnesota\",\"Candidate\":\"Clinton\"}]'"
      ]
     },
     "execution_count": 85,
     "metadata": {},
     "output_type": "execute_result"
    }
   ],
   "source": [
    "many"
   ]
  },
  {
   "cell_type": "code",
   "execution_count": null,
   "metadata": {
    "collapsed": true
   },
   "outputs": [],
   "source": []
  }
 ],
 "metadata": {
  "kernelspec": {
   "display_name": "Python 3",
   "language": "python",
   "name": "python3"
  },
  "language_info": {
   "codemirror_mode": {
    "name": "ipython",
    "version": 3
   },
   "file_extension": ".py",
   "mimetype": "text/x-python",
   "name": "python",
   "nbconvert_exporter": "python",
   "pygments_lexer": "ipython3",
   "version": "3.5.1"
  }
 },
 "nbformat": 4,
 "nbformat_minor": 0
}
